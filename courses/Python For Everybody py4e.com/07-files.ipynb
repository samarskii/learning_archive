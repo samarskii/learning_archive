{
 "cells": [
  {
   "cell_type": "markdown",
   "id": "c89f307f-bfa6-405f-8a23-9a67b38c1896",
   "metadata": {},
   "source": [
    "# Files\n",
    "\n",
    "### __Author:__ Samarskii\n",
    "### __Date:__ 14/03/2024"
   ]
  },
  {
   "cell_type": "markdown",
   "id": "a8da087d-f8b7-4179-acfb-d29d7218f0cf",
   "metadata": {},
   "source": [
    "## Theory"
   ]
  },
  {
   "cell_type": "code",
   "execution_count": 5,
   "id": "84851311-b49f-4217-b373-aee76de17469",
   "metadata": {},
   "outputs": [
    {
     "name": "stdout",
     "output_type": "stream",
     "text": [
      "<_io.TextIOWrapper name='mbox.txt' mode='r' encoding='UTF-8'>\n"
     ]
    }
   ],
   "source": [
    "fhand = open('mbox.txt')\n",
    "print(fhand)"
   ]
  },
  {
   "cell_type": "code",
   "execution_count": 6,
   "id": "882d46b0-f68c-40b6-aaa8-aa8c92ba996e",
   "metadata": {},
   "outputs": [
    {
     "name": "stdout",
     "output_type": "stream",
     "text": [
      "Hello\n",
      "World\n",
      "X\n",
      "Y\n",
      "Stuff len: 3\n"
     ]
    }
   ],
   "source": [
    "stuff = 'Hello\\nWorld'\n",
    "print(stuff)\n",
    "\n",
    "stuff = 'X\\nY'\n",
    "print(stuff)\n",
    "print(f\"Stuff len: {len(stuff)}\")"
   ]
  },
  {
   "cell_type": "code",
   "execution_count": 7,
   "id": "402c2e35-47c0-4db8-b98e-c61bf976bbad",
   "metadata": {
    "scrolled": true
   },
   "outputs": [
    {
     "name": "stdout",
     "output_type": "stream",
     "text": [
      "6687002\n",
      "From stephen.marquar\n"
     ]
    }
   ],
   "source": [
    "fhand = open('mbox.txt')\n",
    "# count = 0\n",
    "# for line in fhand:\n",
    "#     count = count + 1\n",
    "# print(f\"Line count: {count}\")\n",
    "inp = fhand.read()\n",
    "print(len(inp))\n",
    "# print(inp.find('\\n'))\n",
    "print(inp[:20])"
   ]
  },
  {
   "cell_type": "code",
   "execution_count": 8,
   "id": "aa43c571-f266-4936-a367-3b3f626d02af",
   "metadata": {
    "scrolled": true
   },
   "outputs": [
    {
     "name": "stdout",
     "output_type": "stream",
     "text": [
      "94626\n"
     ]
    }
   ],
   "source": [
    "fhand = open('mbox-short.txt')\n",
    "# count = 0\n",
    "# for line in fhand:\n",
    "#     count = count + 1\n",
    "# print(f\"Line count: {count}\")\n",
    "inp = fhand.read()\n",
    "print(len(inp))"
   ]
  },
  {
   "cell_type": "code",
   "execution_count": 9,
   "id": "65b56db5-6525-4766-865a-d7d1a99f25f3",
   "metadata": {},
   "outputs": [
    {
     "name": "stdout",
     "output_type": "stream",
     "text": [
      "From: stephen.marquard@uct.ac.za\n",
      "\n",
      "From: louis@media.berkeley.edu\n",
      "\n",
      "From: zqian@umich.edu\n",
      "\n",
      "From: rjlowe@iupui.edu\n",
      "\n",
      "From: zqian@umich.edu\n",
      "\n",
      "From: rjlowe@iupui.edu\n",
      "\n",
      "From: cwen@iupui.edu\n",
      "\n",
      "From: cwen@iupui.edu\n",
      "\n",
      "From: gsilver@umich.edu\n",
      "\n",
      "From: gsilver@umich.edu\n",
      "\n",
      "From: zqian@umich.edu\n",
      "\n",
      "From: gsilver@umich.edu\n",
      "\n",
      "From: wagnermr@iupui.edu\n",
      "\n",
      "From: zqian@umich.edu\n",
      "\n",
      "From: antranig@caret.cam.ac.uk\n",
      "\n",
      "From: gopal.ramasammycook@gmail.com\n",
      "\n",
      "From: david.horwitz@uct.ac.za\n",
      "\n",
      "From: david.horwitz@uct.ac.za\n",
      "\n",
      "From: david.horwitz@uct.ac.za\n",
      "\n",
      "From: david.horwitz@uct.ac.za\n",
      "\n",
      "From: stephen.marquard@uct.ac.za\n",
      "\n",
      "From: louis@media.berkeley.edu\n",
      "\n",
      "From: louis@media.berkeley.edu\n",
      "\n",
      "From: ray@media.berkeley.edu\n",
      "\n",
      "From: cwen@iupui.edu\n",
      "\n",
      "From: cwen@iupui.edu\n",
      "\n",
      "From: cwen@iupui.edu\n",
      "\n"
     ]
    }
   ],
   "source": [
    "fhand = open('mbox-short.txt')\n",
    "for line in fhand:\n",
    "    if line.startswith('From:'):\n",
    "        print(line)"
   ]
  },
  {
   "cell_type": "code",
   "execution_count": 10,
   "id": "69b0855e-d062-4da0-9d33-e64d947398d7",
   "metadata": {},
   "outputs": [],
   "source": [
    "# fhand = open('mbox.txt')\n",
    "# for line in fhand:\n",
    "#     if line.startswith('From'):\n",
    "#         print(line)"
   ]
  },
  {
   "cell_type": "code",
   "execution_count": 11,
   "id": "fb23091e-efd8-4dec-8117-dedc17bbab0e",
   "metadata": {},
   "outputs": [
    {
     "name": "stdout",
     "output_type": "stream",
     "text": [
      "From: stephen.marquard@uct.ac.za\n",
      "From: louis@media.berkeley.edu\n",
      "From: zqian@umich.edu\n",
      "From: rjlowe@iupui.edu\n",
      "From: zqian@umich.edu\n",
      "From: rjlowe@iupui.edu\n",
      "From: cwen@iupui.edu\n",
      "From: cwen@iupui.edu\n",
      "From: gsilver@umich.edu\n",
      "From: gsilver@umich.edu\n",
      "From: zqian@umich.edu\n",
      "From: gsilver@umich.edu\n",
      "From: wagnermr@iupui.edu\n",
      "From: zqian@umich.edu\n",
      "From: antranig@caret.cam.ac.uk\n",
      "From: gopal.ramasammycook@gmail.com\n",
      "From: david.horwitz@uct.ac.za\n",
      "From: david.horwitz@uct.ac.za\n",
      "From: david.horwitz@uct.ac.za\n",
      "From: david.horwitz@uct.ac.za\n",
      "From: stephen.marquard@uct.ac.za\n",
      "From: louis@media.berkeley.edu\n",
      "From: louis@media.berkeley.edu\n",
      "From: ray@media.berkeley.edu\n",
      "From: cwen@iupui.edu\n",
      "From: cwen@iupui.edu\n",
      "From: cwen@iupui.edu\n"
     ]
    }
   ],
   "source": [
    "fhand = open('mbox-short.txt')\n",
    "mails = []\n",
    "for line in fhand:\n",
    "    line = line.rstrip()\n",
    "    if line.startswith('From:'):\n",
    "        print(line)\n",
    "        # line = line[6:]\n",
    "        # mails.append(line)\n",
    "# print(mails)"
   ]
  },
  {
   "cell_type": "code",
   "execution_count": 12,
   "id": "f6b20075-558c-4667-8be3-cce3f66e3600",
   "metadata": {},
   "outputs": [
    {
     "name": "stdout",
     "output_type": "stream",
     "text": [
      "From: stephen.marquard@uct.ac.za\n",
      "From: louis@media.berkeley.edu\n",
      "From: zqian@umich.edu\n",
      "From: rjlowe@iupui.edu\n",
      "From: zqian@umich.edu\n",
      "From: rjlowe@iupui.edu\n",
      "From: cwen@iupui.edu\n",
      "From: cwen@iupui.edu\n",
      "From: gsilver@umich.edu\n",
      "From: gsilver@umich.edu\n",
      "From: zqian@umich.edu\n",
      "From: gsilver@umich.edu\n",
      "From: wagnermr@iupui.edu\n",
      "From: zqian@umich.edu\n",
      "From: antranig@caret.cam.ac.uk\n",
      "From: gopal.ramasammycook@gmail.com\n",
      "From: david.horwitz@uct.ac.za\n",
      "From: david.horwitz@uct.ac.za\n",
      "From: david.horwitz@uct.ac.za\n",
      "From: david.horwitz@uct.ac.za\n",
      "From: stephen.marquard@uct.ac.za\n",
      "From: louis@media.berkeley.edu\n",
      "From: louis@media.berkeley.edu\n",
      "From: ray@media.berkeley.edu\n",
      "From: cwen@iupui.edu\n",
      "From: cwen@iupui.edu\n",
      "From: cwen@iupui.edu\n"
     ]
    }
   ],
   "source": [
    "fhand = open('mbox-short.txt')\n",
    "for line in fhand:\n",
    "    line = line.rstrip()\n",
    "    # skip uninteresting line\n",
    "    if not line.startswith('From:'):\n",
    "        continue\n",
    "    # process our interesting line\n",
    "    print(line)"
   ]
  },
  {
   "cell_type": "code",
   "execution_count": 13,
   "id": "52bb240d-6301-4ac6-88c3-699815da5217",
   "metadata": {},
   "outputs": [
    {
     "name": "stdout",
     "output_type": "stream",
     "text": [
      "From stephen.marquard@uct.ac.za Sat Jan  5 09:14:16 2008\n",
      "X-Authentication-Warning: nakamura.uits.iupui.edu: apache set sender to stephen.marquard@uct.ac.za using -f\n",
      "From: stephen.marquard@uct.ac.za\n",
      "Author: stephen.marquard@uct.ac.za\n",
      "From david.horwitz@uct.ac.za Fri Jan  4 07:02:32 2008\n",
      "X-Authentication-Warning: nakamura.uits.iupui.edu: apache set sender to david.horwitz@uct.ac.za using -f\n",
      "From: david.horwitz@uct.ac.za\n",
      "Author: david.horwitz@uct.ac.za\n",
      "r39753 | david.horwitz@uct.ac.za | 2008-01-04 13:05:51 +0200 (Fri, 04 Jan 2008) | 1 line\n",
      "From david.horwitz@uct.ac.za Fri Jan  4 06:08:27 2008\n",
      "X-Authentication-Warning: nakamura.uits.iupui.edu: apache set sender to david.horwitz@uct.ac.za using -f\n",
      "From: david.horwitz@uct.ac.za\n",
      "Author: david.horwitz@uct.ac.za\n",
      "From david.horwitz@uct.ac.za Fri Jan  4 04:49:08 2008\n",
      "X-Authentication-Warning: nakamura.uits.iupui.edu: apache set sender to david.horwitz@uct.ac.za using -f\n",
      "From: david.horwitz@uct.ac.za\n",
      "Author: david.horwitz@uct.ac.za\n",
      "From david.horwitz@uct.ac.za Fri Jan  4 04:33:44 2008\n",
      "X-Authentication-Warning: nakamura.uits.iupui.edu: apache set sender to david.horwitz@uct.ac.za using -f\n",
      "From: david.horwitz@uct.ac.za\n",
      "Author: david.horwitz@uct.ac.za\n",
      "From stephen.marquard@uct.ac.za Fri Jan  4 04:07:34 2008\n",
      "X-Authentication-Warning: nakamura.uits.iupui.edu: apache set sender to stephen.marquard@uct.ac.za using -f\n",
      "From: stephen.marquard@uct.ac.za\n",
      "Author: stephen.marquard@uct.ac.za\n"
     ]
    }
   ],
   "source": [
    "fhand = open('mbox-short.txt')\n",
    "for line in fhand:\n",
    "    line = line.rstrip()\n",
    "    if line.find('@uct.ac.za') == -1:\n",
    "        continue\n",
    "    print(line)"
   ]
  },
  {
   "cell_type": "code",
   "execution_count": 14,
   "id": "45847dc6-b820-4112-b55a-89b5b7418c8a",
   "metadata": {},
   "outputs": [
    {
     "name": "stdout",
     "output_type": "stream",
     "text": [
      "From stephen.marquard@uct.ac.za Sat Jan  5 09:14:16 2008\n",
      "X-Authentication-Warning: nakamura.uits.iupui.edu: apache set sender to stephen.marquard@uct.ac.za using -f\n",
      "From: stephen.marquard@uct.ac.za\n",
      "Author: stephen.marquard@uct.ac.za\n",
      "From david.horwitz@uct.ac.za Fri Jan  4 07:02:32 2008\n",
      "X-Authentication-Warning: nakamura.uits.iupui.edu: apache set sender to david.horwitz@uct.ac.za using -f\n",
      "From: david.horwitz@uct.ac.za\n",
      "Author: david.horwitz@uct.ac.za\n",
      "r39753 | david.horwitz@uct.ac.za | 2008-01-04 13:05:51 +0200 (Fri, 04 Jan 2008) | 1 line\n",
      "From david.horwitz@uct.ac.za Fri Jan  4 06:08:27 2008\n",
      "X-Authentication-Warning: nakamura.uits.iupui.edu: apache set sender to david.horwitz@uct.ac.za using -f\n",
      "From: david.horwitz@uct.ac.za\n",
      "Author: david.horwitz@uct.ac.za\n",
      "From david.horwitz@uct.ac.za Fri Jan  4 04:49:08 2008\n",
      "X-Authentication-Warning: nakamura.uits.iupui.edu: apache set sender to david.horwitz@uct.ac.za using -f\n",
      "From: david.horwitz@uct.ac.za\n",
      "Author: david.horwitz@uct.ac.za\n",
      "From david.horwitz@uct.ac.za Fri Jan  4 04:33:44 2008\n",
      "X-Authentication-Warning: nakamura.uits.iupui.edu: apache set sender to david.horwitz@uct.ac.za using -f\n",
      "From: david.horwitz@uct.ac.za\n",
      "Author: david.horwitz@uct.ac.za\n",
      "From stephen.marquard@uct.ac.za Fri Jan  4 04:07:34 2008\n",
      "X-Authentication-Warning: nakamura.uits.iupui.edu: apache set sender to stephen.marquard@uct.ac.za using -f\n",
      "From: stephen.marquard@uct.ac.za\n",
      "Author: stephen.marquard@uct.ac.za\n"
     ]
    }
   ],
   "source": [
    "fhand = open('mbox-short.txt')\n",
    "for line in fhand:\n",
    "    if '@uct.ac.za' in line:\n",
    "        print(line.rstrip())"
   ]
  },
  {
   "cell_type": "code",
   "execution_count": null,
   "id": "bced0c9a-1734-486e-8a0e-eec56ff7ed33",
   "metadata": {},
   "outputs": [],
   "source": [
    "fname = input('Enter the file name: ')\n",
    "fhand = open(fname)\n",
    "count = 0\n",
    "for line in fhand:\n",
    "    if line.startswith('Subject:'):\n",
    "        count += 1\n",
    "print(f\"There wewe {count} subject lines in {fname}\")"
   ]
  },
  {
   "cell_type": "code",
   "execution_count": null,
   "id": "66eb648b-2cd1-45f1-af7d-660380021f6c",
   "metadata": {
    "scrolled": true
   },
   "outputs": [],
   "source": [
    "fname = input('Enter the file name: ')\n",
    "try: \n",
    "    fhand = open(fname)\n",
    "except:\n",
    "    print('File cannot be opened:', fname)\n",
    "    exit()\n",
    "count = 0\n",
    "for line in fhand:\n",
    "    if line.startswith('Subject:'):\n",
    "        count += 1\n",
    "print(f\"There wewe {count} subject lines in {fname}\")"
   ]
  },
  {
   "cell_type": "code",
   "execution_count": null,
   "id": "1aaa293f-5fd3-432a-b35e-c437a31180dd",
   "metadata": {},
   "outputs": [],
   "source": [
    "dout = open('output.txt', 'w')\n",
    "print(dout)"
   ]
  },
  {
   "cell_type": "code",
   "execution_count": null,
   "id": "0d0371e7-400c-46f4-bc23-d1ffe6e1a7ce",
   "metadata": {},
   "outputs": [],
   "source": [
    "line1 = \"This here's the wattle,\\n\"\n",
    "dout.write(line1)"
   ]
  },
  {
   "cell_type": "code",
   "execution_count": null,
   "id": "5efb37d4-801b-43f7-9e5f-8ffde7f620cb",
   "metadata": {},
   "outputs": [],
   "source": [
    "line2 = \"the emblem of our land.\\n\"\n",
    "dout.write(line2)"
   ]
  },
  {
   "cell_type": "code",
   "execution_count": null,
   "id": "b5c27027-1417-49a0-abac-c1df56ee5467",
   "metadata": {},
   "outputs": [],
   "source": [
    "dout.close()"
   ]
  },
  {
   "cell_type": "code",
   "execution_count": null,
   "id": "47f81f0e-46ea-49b5-8514-b321cbda74d4",
   "metadata": {},
   "outputs": [],
   "source": [
    "s = '1 2\\t 3\\n 4'\n",
    "print(s)"
   ]
  },
  {
   "cell_type": "code",
   "execution_count": null,
   "id": "46dbe36d-25d7-483d-8931-7977de2033eb",
   "metadata": {},
   "outputs": [],
   "source": [
    "print(repr(s))"
   ]
  },
  {
   "cell_type": "markdown",
   "id": "84fc1056-5323-49be-b18f-a609d2133119",
   "metadata": {},
   "source": [
    "## Esercises"
   ]
  },
  {
   "cell_type": "markdown",
   "id": "ba7aafc3-2f30-45e9-afc3-bb3893db78fe",
   "metadata": {},
   "source": [
    "## __Exercise 1:__ Write a program to read through a file and print the contents of the file (line by line) all in upper case. Executing the program will look as follows:"
   ]
  },
  {
   "cell_type": "code",
   "execution_count": null,
   "id": "8ddfe8dd-6fca-4411-b502-c69a3a7cf096",
   "metadata": {},
   "outputs": [],
   "source": [
    "try:\n",
    "    fname = input(\"Enter a file name: \")\n",
    "    opened = open(fname)\n",
    "except:\n",
    "    print(\"There is no such file!\")\n",
    "    print(\"Quitting!\")\n",
    "    quit()\n",
    "\n",
    "n = 15\n",
    "while n > 0:\n",
    "    for line in opened:\n",
    "        line = line.rstrip()\n",
    "        print(line.upper())\n",
    "        n -= 1\n",
    "        if n == 0:\n",
    "            break"
   ]
  },
  {
   "cell_type": "code",
   "execution_count": null,
   "id": "cb2f3c09-bd96-49f6-8f0b-a89972a5adb4",
   "metadata": {
    "scrolled": true
   },
   "outputs": [],
   "source": [
    "try:\n",
    "    fname = input(\"Enter a file name: \")\n",
    "    with open(fname) as file:\n",
    "        for i, line in enumerate(file, start=1):\n",
    "            print(line.rstrip().upper())\n",
    "            if i == 15:\n",
    "                break\n",
    "\n",
    "except FileNotFoundError:\n",
    "    print(\"There is no such file!\")\n",
    "    print(\"Quitting!\")\n",
    "    quit()"
   ]
  },
  {
   "cell_type": "markdown",
   "id": "d307c0da-6687-4dfd-a1ff-4d5ef3795afd",
   "metadata": {},
   "source": [
    "## __Exercise 2:__ Write a program to prompt for a file name, and then read through the file and look for lines of the form:"
   ]
  },
  {
   "cell_type": "code",
   "execution_count": null,
   "id": "5b5b1522-7a52-4956-a8f9-1546472775e0",
   "metadata": {},
   "outputs": [],
   "source": [
    "try:\n",
    "    fname = input(\"Enter a file name: \")\n",
    "    with open(fname) as file:\n",
    "        count = 0\n",
    "        total = 0\n",
    "        for line in file:\n",
    "            if line.startswith('X-DSPAM-Confidence:'):\n",
    "                line = line.rstrip()\n",
    "                semiposition = line.find(':')\n",
    "                line = line[semiposition+1:]\n",
    "                line = line.strip()\n",
    "                line = float(line)\n",
    "                count += 1\n",
    "                total += line\n",
    "except FileNotFoundError:\n",
    "    print(\"There is no such file!\")\n",
    "    print(\"Quitting!\")\n",
    "    quit()\n",
    "\n",
    "if count > 0:\n",
    "    final = total / count\n",
    "    print(f\"Average spam confidence: {final}\")\n",
    "else:\n",
    "    print(\"No lines found starting with 'X-DSPAM-Confidence:'\")"
   ]
  },
  {
   "cell_type": "markdown",
   "id": "648252c9-6dd3-4ac2-b74d-7f6e4ada44c9",
   "metadata": {},
   "source": [
    "## __Exercise 3:__  Sometimes when programmers get bored or want to have a bit of fun, they add a harmless Easter Egg to their program. Modify the program that prompts the user for the file name so that it prints a funny message when the user types in the exact file name “na na boo boo”. The program should behave normally for all other files which exist and don’t exist. Here is a sample execution of the program:"
   ]
  },
  {
   "cell_type": "code",
   "execution_count": null,
   "id": "865cb25f-37b4-4e8b-b3a2-c3f43e6ffd62",
   "metadata": {},
   "outputs": [],
   "source": [
    "try:\n",
    "    \n",
    "    fname = input(\"Enter a file name: \")\n",
    "       \n",
    "    with open(fname) as file:\n",
    "       count = 0\n",
    "       \n",
    "       for line in file:\n",
    "           \n",
    "           if line.startswith('Subject'):\n",
    "               count += 1\n",
    "    print(f\"There were {count} subject lines in {fname}\")\n",
    "    \n",
    "except FileNotFoundError:\n",
    "    if fname == 'na na boo boo':\n",
    "       print(\"NA NA BOO BOO TO YOU - You have been punk'd!\")\n",
    "       quit()\n",
    "    else: \n",
    "       print(f\"File cannot be opened: {fname}\")\n",
    "       quit()"
   ]
  },
  {
   "cell_type": "code",
   "execution_count": null,
   "id": "d211fced-f90f-4412-9b94-314e217b4901",
   "metadata": {},
   "outputs": [],
   "source": [
    " "
   ]
  }
 ],
 "metadata": {
  "kernelspec": {
   "display_name": "Python 3 (ipykernel)",
   "language": "python",
   "name": "python3"
  },
  "language_info": {
   "codemirror_mode": {
    "name": "ipython",
    "version": 3
   },
   "file_extension": ".py",
   "mimetype": "text/x-python",
   "name": "python",
   "nbconvert_exporter": "python",
   "pygments_lexer": "ipython3",
   "version": "3.11.5"
  }
 },
 "nbformat": 4,
 "nbformat_minor": 5
}
