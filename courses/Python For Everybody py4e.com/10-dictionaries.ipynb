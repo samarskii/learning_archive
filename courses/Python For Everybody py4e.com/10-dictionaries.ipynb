{
 "cells": [
  {
   "cell_type": "markdown",
   "id": "a4f2cda5-a4a9-4f91-ba34-8d99d61ea2d7",
   "metadata": {},
   "source": [
    "# Dictionaries\n",
    "### __Link to materials:__ [https://www.py4e.com/lessons/dictionary]\n",
    "### __Author:__ Samarskii\n",
    "### __Date:__ 03/05/2024"
   ]
  },
  {
   "cell_type": "markdown",
   "id": "98ba1eda-c911-4d88-a187-0eb1d5a22e57",
   "metadata": {},
   "source": [
    "## Theory"
   ]
  },
  {
   "cell_type": "code",
   "execution_count": 15,
   "id": "538db12f-a3e5-4aa9-a025-5d3c5e63ce44",
   "metadata": {},
   "outputs": [
    {
     "name": "stdout",
     "output_type": "stream",
     "text": [
      "{}\n",
      "{'one': 'uno'}\n",
      "{'one': 'uno', 'two': 'dos', 'three': 'tres'}\n",
      "dos\n",
      "3\n",
      "True\n",
      "False\n"
     ]
    }
   ],
   "source": [
    "eng2sp = dict()\n",
    "print(eng2sp)\n",
    "\n",
    "eng2sp['one'] = 'uno'\n",
    "print(eng2sp)\n",
    "\n",
    "eng2sp = {'one': 'uno', 'two': 'dos', 'three': 'tres'}\n",
    "print(eng2sp)\n",
    "\n",
    "print(eng2sp['two'])\n",
    "\n",
    "# print(eng2sp['four\n",
    "print(len(eng2sp))\n",
    "type(eng2sp)\n",
    "\n",
    "print('one' in eng2sp)\n",
    "print('uno' in eng2sp)"
   ]
  },
  {
   "cell_type": "code",
   "execution_count": 39,
   "id": "f381fb53-a3d7-4275-a301-d18621bba490",
   "metadata": {},
   "outputs": [
    {
     "name": "stdout",
     "output_type": "stream",
     "text": [
      "{'b': 1, 'r': 2, 'o': 2, 'n': 1, 't': 1, 's': 2, 'a': 1, 'u': 2}\n"
     ]
    }
   ],
   "source": [
    "word = 'brontosaurus'\n",
    "d = dict()\n",
    "for c in word:\n",
    "    if c not in d:\n",
    "        d[c] = 1\n",
    "    else:\n",
    "        d[c] = d[c] + 1\n",
    "print(d)"
   ]
  },
  {
   "cell_type": "code",
   "execution_count": 5,
   "id": "efca6900",
   "metadata": {},
   "outputs": [
    {
     "name": "stdout",
     "output_type": "stream",
     "text": [
      "100\n",
      "0\n"
     ]
    }
   ],
   "source": [
    "counts = {'chuck': 1, 'annie': 42, 'jan': 100}\n",
    "print(counts.get('jan', 0))\n",
    "print(counts.get('tim', 0))"
   ]
  },
  {
   "cell_type": "code",
   "execution_count": 8,
   "id": "27a28ea5",
   "metadata": {},
   "outputs": [
    {
     "name": "stdout",
     "output_type": "stream",
     "text": [
      "{'b': 1, 'r': 2, 'o': 2, 'n': 1, 't': 1, 's': 2, 'a': 1, 'u': 2}\n"
     ]
    }
   ],
   "source": [
    "word = 'brontosaurus'\n",
    "d = dict()\n",
    "for c in word:\n",
    "    d[c] = d.get(c, 0) + 1\n",
    "    \n",
    "print(d)"
   ]
  },
  {
   "cell_type": "markdown",
   "id": "1c26f8b2-e24a-46b9-be9c-ce81544ac547",
   "metadata": {},
   "source": [
    "## Exercises"
   ]
  },
  {
   "cell_type": "markdown",
   "id": "da6feef7-3095-4347-bc95-fd763b23552b",
   "metadata": {},
   "source": [
    "##  __Exercise 1:__ Download a copy of the file\n",
    "\n",
    "www.py4e.com/code3/words.txt\n",
    "\n",
    "Write a program that reads the words in words.txt and stores them as keys in a dictionary. It doesn’t matter what the values are. Then you can use the in operator as a fast way to check whether a string is in the dictionary."
   ]
  },
  {
   "cell_type": "code",
   "execution_count": 38,
   "id": "c7bcd43c-757a-4538-9523-c514344d27ef",
   "metadata": {
    "scrolled": true
   },
   "outputs": [
    {
     "name": "stdout",
     "output_type": "stream",
     "text": [
      "Writing programs or programming is a very creative\n",
      "and rewarding activity  You can write programs for\n",
      "many reasons ranging from making your living to solving\n",
      "a difficult data analysis problem to having fun to helping\n",
      "someone else solve a problem  This book assumes that\n",
      "{\\em everyone} needs to know how to program and that once\n",
      "you know how to program, you will figure out what you want\n",
      "to do with your newfound skills\n",
      "We are surrounded in our daily lives with computers ranging\n",
      "from laptops to cell phones  We can think of these computers\n",
      "as our personal assistants who can take care of many things\n",
      "on our behalf  The hardware in our current-day computers\n",
      "is essentially built to continuously ask us the question\n",
      "What would you like me to do next\n",
      "Our computers are fast and have vasts amounts of memory and\n",
      "could be very helpful to us if we only knew the language to\n",
      "speak to explain to the computer what we would like it to\n",
      "do next If we knew this language we could tell the\n",
      "computer to do tasks on our behalf that were reptitive\n",
      "Interestingly, the kinds of things computers can do best\n",
      "are often the kinds of things that we humans find boring\n",
      "and mind-numbing\n",
      "The word 'fun' in not in the dictionary\n"
     ]
    }
   ],
   "source": [
    "with open('words.txt') as file:\n",
    "\n",
    "    words = dict()\n",
    "    for line in file:\n",
    "        line = line.strip()\n",
    "        if line:\n",
    "            words[line] = None\n",
    "\n",
    "for word in words: \n",
    "    print(word)\n",
    "\n",
    "# Checking if the string is in dictionary\n",
    "word = \"fun\"\n",
    "if word in words:\n",
    "    print(f\"The word '{word}' is in the dictionary\")\n",
    "else:\n",
    "    print(f\"The word '{word}' in not in the dictionary\")"
   ]
  },
  {
   "cell_type": "code",
   "execution_count": null,
   "id": "b2609add-81b0-40f8-9a29-a835b75507e9",
   "metadata": {},
   "outputs": [],
   "source": []
  }
 ],
 "metadata": {
  "kernelspec": {
   "display_name": "Python 3 (ipykernel)",
   "language": "python",
   "name": "python3"
  },
  "language_info": {
   "codemirror_mode": {
    "name": "ipython",
    "version": 3
   },
   "file_extension": ".py",
   "mimetype": "text/x-python",
   "name": "python",
   "nbconvert_exporter": "python",
   "pygments_lexer": "ipython3",
   "version": "3.11.7"
  }
 },
 "nbformat": 4,
 "nbformat_minor": 5
}
