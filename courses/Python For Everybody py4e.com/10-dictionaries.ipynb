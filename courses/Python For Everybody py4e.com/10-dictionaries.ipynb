{
 "cells": [
  {
   "cell_type": "markdown",
   "id": "a4f2cda5-a4a9-4f91-ba34-8d99d61ea2d7",
   "metadata": {},
   "source": [
    "# Dictionaries\n",
    "### __Link to materials:__ [https://www.py4e.com/lessons/dictionary]\n",
    "### __Author:__ Samarskii\n",
    "### __Date:__ 03/05/2024"
   ]
  },
  {
   "cell_type": "markdown",
   "id": "98ba1eda-c911-4d88-a187-0eb1d5a22e57",
   "metadata": {},
   "source": [
    "## Theory"
   ]
  },
  {
   "cell_type": "code",
   "execution_count": 1,
   "id": "538db12f-a3e5-4aa9-a025-5d3c5e63ce44",
   "metadata": {},
   "outputs": [
    {
     "name": "stdout",
     "output_type": "stream",
     "text": [
      "{}\n",
      "{'one': 'uno'}\n",
      "{'one': 'uno', 'two': 'dos', 'three': 'tres'}\n",
      "dos\n",
      "3\n",
      "True\n",
      "False\n"
     ]
    }
   ],
   "source": [
    "eng2sp = dict()\n",
    "print(eng2sp)\n",
    "\n",
    "eng2sp['one'] = 'uno'\n",
    "print(eng2sp)\n",
    "\n",
    "eng2sp = {'one': 'uno', 'two': 'dos', 'three': 'tres'}\n",
    "print(eng2sp)\n",
    "\n",
    "print(eng2sp['two'])\n",
    "\n",
    "# print(eng2sp['four\n",
    "print(len(eng2sp))\n",
    "type(eng2sp)\n",
    "\n",
    "print('one' in eng2sp)\n",
    "print('uno' in eng2sp)"
   ]
  },
  {
   "cell_type": "code",
   "execution_count": 2,
   "id": "f381fb53-a3d7-4275-a301-d18621bba490",
   "metadata": {},
   "outputs": [
    {
     "name": "stdout",
     "output_type": "stream",
     "text": [
      "{'b': 1, 'r': 2, 'o': 2, 'n': 1, 't': 1, 's': 2, 'a': 1, 'u': 2}\n"
     ]
    }
   ],
   "source": [
    "word = 'brontosaurus'\n",
    "d = dict()\n",
    "for c in word:\n",
    "    if c not in d:\n",
    "        d[c] = 1\n",
    "    else:\n",
    "        d[c] = d[c] + 1\n",
    "print(d)"
   ]
  },
  {
   "cell_type": "code",
   "execution_count": 3,
   "id": "efca6900",
   "metadata": {},
   "outputs": [
    {
     "name": "stdout",
     "output_type": "stream",
     "text": [
      "100\n",
      "0\n"
     ]
    }
   ],
   "source": [
    "counts = {'chuck': 1, 'annie': 42, 'jan': 100}\n",
    "print(counts.get('jan', 0))\n",
    "print(counts.get('tim', 0))"
   ]
  },
  {
   "cell_type": "code",
   "execution_count": 4,
   "id": "27a28ea5",
   "metadata": {},
   "outputs": [
    {
     "name": "stdout",
     "output_type": "stream",
     "text": [
      "{'b': 1, 'r': 2, 'o': 2, 'n': 1, 't': 1, 's': 2, 'a': 1, 'u': 2}\n"
     ]
    }
   ],
   "source": [
    "word = 'brontosaurus'\n",
    "d = dict()\n",
    "for c in word:\n",
    "    d[c] = d.get(c, 0) + 1\n",
    "    \n",
    "print(d)"
   ]
  },
  {
   "cell_type": "code",
   "execution_count": 11,
   "id": "cc03409b",
   "metadata": {},
   "outputs": [
    {
     "name": "stdout",
     "output_type": "stream",
     "text": [
      "Arise 1\n",
      "But 1\n",
      "It 1\n",
      "Juliet 1\n",
      "Who 1\n",
      "already 1\n",
      "and 3\n",
      "breaks 1\n",
      "east 1\n",
      "envious 1\n",
      "fair 1\n",
      "grief 1\n",
      "is 3\n",
      "kill 1\n",
      "light 1\n",
      "moon 1\n",
      "pale 1\n",
      "sick 1\n",
      "soft 1\n",
      "sun 2\n",
      "the 3\n",
      "through 1\n",
      "what 1\n",
      "window 1\n",
      "with 1\n",
      "yonder 1\n"
     ]
    }
   ],
   "source": [
    "fname = input(\"Enter the file name: \")\n",
    "try:\n",
    "    fhand = open(fname)\n",
    "except:\n",
    "    print(\"File cannot be opened:\", fname)\n",
    "    exit()\n",
    "    \n",
    "counts = dict()\n",
    "for line in fhand:\n",
    "    words = line.split()\n",
    "    for word in words:\n",
    "        if word not in counts:\n",
    "            counts[word] = 1\n",
    "        else:\n",
    "            counts[word] += 1\n",
    "\n",
    "lst = list(counts.keys())\n",
    "lst.sort()\n",
    "for key in lst:\n",
    "    print(key, counts[key])"
   ]
  },
  {
   "cell_type": "code",
   "execution_count": 16,
   "id": "fa1a1058",
   "metadata": {},
   "outputs": [
    {
     "name": "stdout",
     "output_type": "stream",
     "text": [
      "{'but': 1, 'soft': 1, 'what': 1, 'light': 1, 'through': 1, 'yonder': 1, 'window': 1, 'breaks': 1, 'it': 1, 'is': 3, 'the': 3, 'east': 1, 'and': 3, 'juliet': 1, 'sun': 2, 'arise': 1, 'fair': 1, 'kill': 1, 'envious': 1, 'moon': 1, 'who': 1, 'already': 1, 'sick': 1, 'pale': 1, 'with': 1, 'grief': 1}\n"
     ]
    }
   ],
   "source": [
    "import string\n",
    "\n",
    "fname = input('Enter the file name: ')\n",
    "try:\n",
    "    fhand = open(fname)\n",
    "except:\n",
    "    print(\"File cannot be opened:\", fname)\n",
    "    exit()\n",
    "    \n",
    "counts = dict()\n",
    "for line in fhand:\n",
    "    line = line.rstrip()\n",
    "    # First two parameters are empty strings\n",
    "    line = line.translate(line.maketrans(\"\", \"\", string.punctuation))\n",
    "    line = line.lower()\n",
    "    words = line.split()\n",
    "    for word in words:\n",
    "        if word not in counts:\n",
    "            counts[word] = 1\n",
    "        else:\n",
    "            counts[word] += 1\n",
    "            \n",
    "print(counts)                \n",
    "            "
   ]
  },
  {
   "cell_type": "markdown",
   "id": "1c26f8b2-e24a-46b9-be9c-ce81544ac547",
   "metadata": {},
   "source": [
    "## Exercises"
   ]
  },
  {
   "cell_type": "markdown",
   "id": "da6feef7-3095-4347-bc95-fd763b23552b",
   "metadata": {},
   "source": [
    "##  __Exercise 1:__ \n",
    "Download a copy of the file\n",
    "\n",
    "www.py4e.com/code3/words.txt\n",
    "\n",
    "Write a program that reads the words in words.txt and stores them as keys in a dictionary. It doesn’t matter what the values are. Then you can use the in operator as a fast way to check whether a string is in the dictionary."
   ]
  },
  {
   "cell_type": "code",
   "execution_count": 5,
   "id": "c7bcd43c-757a-4538-9523-c514344d27ef",
   "metadata": {
    "scrolled": true
   },
   "outputs": [
    {
     "name": "stdout",
     "output_type": "stream",
     "text": [
      "Writing programs or programming is a very creative\n",
      "and rewarding activity  You can write programs for\n",
      "many reasons ranging from making your living to solving\n",
      "a difficult data analysis problem to having fun to helping\n",
      "someone else solve a problem  This book assumes that\n",
      "{\\em everyone} needs to know how to program and that once\n",
      "you know how to program, you will figure out what you want\n",
      "to do with your newfound skills\n",
      "We are surrounded in our daily lives with computers ranging\n",
      "from laptops to cell phones  We can think of these computers\n",
      "as our personal assistants who can take care of many things\n",
      "on our behalf  The hardware in our current-day computers\n",
      "is essentially built to continuously ask us the question\n",
      "What would you like me to do next\n",
      "Our computers are fast and have vasts amounts of memory and\n",
      "could be very helpful to us if we only knew the language to\n",
      "speak to explain to the computer what we would like it to\n",
      "do next If we knew this language we could tell the\n",
      "computer to do tasks on our behalf that were reptitive\n",
      "Interestingly, the kinds of things computers can do best\n",
      "are often the kinds of things that we humans find boring\n",
      "and mind-numbing\n",
      "The word 'fun' in not in the dictionary\n"
     ]
    }
   ],
   "source": [
    "with open('words.txt') as file:\n",
    "\n",
    "    words = dict()\n",
    "    for line in file:\n",
    "        line = line.strip()\n",
    "        if line:\n",
    "            words[line] = None\n",
    "\n",
    "for word in words: \n",
    "    print(word)\n",
    "\n",
    "# Checking if the string is in dictionary\n",
    "word = \"fun\"\n",
    "if word in words:\n",
    "    print(f\"The word '{word}' is in the dictionary\")\n",
    "else:\n",
    "    print(f\"The word '{word}' in not in the dictionary\")"
   ]
  },
  {
   "cell_type": "markdown",
   "id": "b2609add-81b0-40f8-9a29-a835b75507e9",
   "metadata": {},
   "source": [
    "##  __Exercise 2:__\n",
    "Write a program that categorizes each mail message by which day of the week the commit was done. To do this look for lines that start with “From”, then look for the third word and keep a running count of each of the days of the week. At the end of the program print out the contents of your dictionary (order does not matter)."
   ]
  },
  {
   "cell_type": "code",
   "execution_count": 8,
   "id": "a3f87a9d",
   "metadata": {},
   "outputs": [
    {
     "name": "stdout",
     "output_type": "stream",
     "text": [
      "{'Sat': 61, 'Fri': 315, 'Thu': 392, 'Wed': 292, 'Tue': 372, 'Mon': 299, 'Sun': 66}\n"
     ]
    }
   ],
   "source": [
    "file = input(\"Enter the filename: \")\n",
    "try:\n",
    "    fhand = open(file)\n",
    "except:\n",
    "    print(\"There is no such file:\", fhand)\n",
    "    exit()\n",
    "    \n",
    "days = ['Mon', 'Tue', 'Wed', 'Thu', 'Fri', 'Sat', 'Sun']  \n",
    "counts = dict() \n",
    "for line in fhand:\n",
    "    words = line.split()\n",
    "\n",
    "    if len(words) > 0 and words[0] == 'From':\n",
    "        for word in words:\n",
    "            if word in days:\n",
    "                counts[word] = counts.get(word, 0) + 1\n",
    "        \n",
    "print(counts)\n",
    "        \n",
    "        "
   ]
  },
  {
   "cell_type": "markdown",
   "id": "92e78d30",
   "metadata": {},
   "source": [
    "##  __Exercise 3:__\n",
    "Write a program to read through a mail log, build a histogram using a dictionary to count how many messages have come from each email address, and print the dictionary."
   ]
  },
  {
   "cell_type": "code",
   "execution_count": 24,
   "id": "ae44dba9",
   "metadata": {},
   "outputs": [
    {
     "name": "stdout",
     "output_type": "stream",
     "text": [
      "{'stephen.marquard@uct.ac.za': 29, 'louis@media.berkeley.edu': 24, 'zqian@umich.edu': 195, 'rjlowe@iupui.edu': 90, 'cwen@iupui.edu': 158, 'gsilver@umich.edu': 28, 'wagnermr@iupui.edu': 44, 'antranig@caret.cam.ac.uk': 18, 'gopal.ramasammycook@gmail.com': 25, 'david.horwitz@uct.ac.za': 67, 'ray@media.berkeley.edu': 32, 'mmmay@indiana.edu': 161, 'stuart.freeman@et.gatech.edu': 17, 'tnguyen@iupui.edu': 6, 'chmaurer@iupui.edu': 111, 'aaronz@vt.edu': 110, 'ian@caret.cam.ac.uk': 96, 'csev@umich.edu': 19, 'jimeng@umich.edu': 93, 'josrodri@iupui.edu': 28, 'knoop@umich.edu': 5, 'bkirschn@umich.edu': 27, 'dlhaines@umich.edu': 84, 'hu2@iupui.edu': 7, 'sgithens@caret.cam.ac.uk': 43, 'arwhyte@umich.edu': 27, 'gbhatnag@umich.edu': 3, 'gjthomas@iupui.edu': 44, 'a.fish@lancaster.ac.uk': 14, 'ajpoland@iupui.edu': 48, 'lance@indiana.edu': 8, 'ssmail@indiana.edu': 5, 'jlrenfro@ucdavis.edu': 1, 'nuno@ufp.pt': 28, 'zach.thomas@txstate.edu': 17, 'ktsao@stanford.edu': 12, 'ostermmg@whitman.edu': 17, 'john.ellis@rsmart.com': 8, 'jleasia@umich.edu': 2, 'ggolden@umich.edu': 8, 'thoppaymallika@fhda.edu': 1, 'kimsooil@bu.edu': 14, 'bahollad@indiana.edu': 4, 'jzaremba@unicon.net': 9, 'mbreuker@loi.nl': 9, 'colin.clark@utoronto.ca': 1}\n"
     ]
    }
   ],
   "source": [
    "file = input(\"Enter the filename: \")\n",
    "try:\n",
    "    fhand = open(file)\n",
    "except:\n",
    "    print(\"There is no such file:\", fhand)\n",
    "    exit()\n",
    "    \n",
    "counts = dict() \n",
    "special_characters = \"@\"\n",
    "\n",
    "\n",
    "for line in fhand:\n",
    "    words = line.split()\n",
    "    if len(words) > 0 and words[0] == 'From':\n",
    "        for word in words:\n",
    "            if special_characters in word:\n",
    "                counts[word] = counts.get(word, 0) + 1\n",
    "            \n",
    "print(counts)"
   ]
  },
  {
   "cell_type": "markdown",
   "id": "12267c08",
   "metadata": {},
   "source": [
    "##  __Exercise 4:__\n",
    "Add code to the above program to figure out who has the most messages in the file. After all the data has been read and the dictionary has been created, look through the dictionary using a maximum loop (see Chapter 5: Maximum and minimum loops) to find who has the most messages and print how many messages the person has."
   ]
  },
  {
   "cell_type": "code",
   "execution_count": 21,
   "id": "cc3cd245",
   "metadata": {},
   "outputs": [
    {
     "name": "stdout",
     "output_type": "stream",
     "text": [
      "zqian@umich.edu 195\n"
     ]
    }
   ],
   "source": [
    "file = input(\"Enter the filename: \")\n",
    "try:\n",
    "    fhand = open(file)\n",
    "except:\n",
    "    print(\"There is no such file:\", fhand)\n",
    "    exit()\n",
    "    \n",
    "counts = dict() \n",
    "special_characters = \"@\"\n",
    "\n",
    "\n",
    "for line in fhand:\n",
    "    words = line.split()\n",
    "    if len(words) > 0 and words[0] == 'From':\n",
    "        for word in words:\n",
    "            if special_characters in word:\n",
    "                counts[word] = counts.get(word, 0) + 1\n",
    "\n",
    "the_value = 0  \n",
    "\n",
    "for key, value in counts.items():\n",
    "    if value >= the_value:\n",
    "        the_value = value\n",
    "                \n",
    "for key, value in counts.items():\n",
    "    if value == the_value:\n",
    "        print(key, counts[key])"
   ]
  },
  {
   "cell_type": "markdown",
   "id": "44b043bf",
   "metadata": {},
   "source": [
    "##  __Exercise 5:__\n",
    "This program records the domain name (instead of the address) where the message was sent from instead of who the mail came from (i.e., the whole email address). At the end of the program, print out the contents of your dictionary."
   ]
  },
  {
   "cell_type": "code",
   "execution_count": 23,
   "id": "c78ac45f",
   "metadata": {},
   "outputs": [
    {
     "name": "stdout",
     "output_type": "stream",
     "text": [
      "{'uct.ac.za': 6, 'media.berkeley.edu': 4, 'umich.edu': 7, 'iupui.edu': 8, 'caret.cam.ac.uk': 1, 'gmail.com': 1}\n"
     ]
    }
   ],
   "source": [
    "file = input(\"Enter the filename: \")\n",
    "try:\n",
    "    fhand = open(file)\n",
    "except:\n",
    "    print(\"There is no such file:\", fhand)\n",
    "    exit()\n",
    "    \n",
    "counts = dict() \n",
    "special_characters = \"@\"\n",
    "\n",
    "for line in fhand:\n",
    "    words = line.split()\n",
    "    if len(words) > 0 and words[0] == 'From':\n",
    "        for word in words:\n",
    "            if special_characters in word:\n",
    "                head, sep, tail = word.partition('@')\n",
    "                counts[tail] = counts.get(tail, 0) + 1\n",
    "            \n",
    "print(counts)"
   ]
  },
  {
   "cell_type": "code",
   "execution_count": null,
   "id": "4651c0fa",
   "metadata": {},
   "outputs": [],
   "source": []
  }
 ],
 "metadata": {
  "kernelspec": {
   "display_name": "Python 3 (ipykernel)",
   "language": "python",
   "name": "python3"
  },
  "language_info": {
   "codemirror_mode": {
    "name": "ipython",
    "version": 3
   },
   "file_extension": ".py",
   "mimetype": "text/x-python",
   "name": "python",
   "nbconvert_exporter": "python",
   "pygments_lexer": "ipython3",
   "version": "3.11.7"
  }
 },
 "nbformat": 4,
 "nbformat_minor": 5
}
