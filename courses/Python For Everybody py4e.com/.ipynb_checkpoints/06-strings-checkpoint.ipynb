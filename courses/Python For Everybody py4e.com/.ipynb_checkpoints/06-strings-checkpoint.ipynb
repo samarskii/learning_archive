{
 "cells": [
  {
   "cell_type": "markdown",
   "id": "8a23b8d8-9104-4e59-be95-f888c018191e",
   "metadata": {},
   "source": [
    "# Strings\n",
    "\n",
    "### __Author:__ Samarskii\n",
    "### __Date:__ 11/03/2024"
   ]
  },
  {
   "cell_type": "markdown",
   "id": "84702a31-a5c8-404c-a2b3-97b5d4c07234",
   "metadata": {},
   "source": [
    "## Theory"
   ]
  },
  {
   "cell_type": "code",
   "execution_count": 1,
   "id": "35cd2857-b8f5-418b-a446-5f46d7233b5d",
   "metadata": {
    "scrolled": true
   },
   "outputs": [
    {
     "name": "stdout",
     "output_type": "stream",
     "text": [
      "a\n"
     ]
    }
   ],
   "source": [
    "fruit = 'banana'\n",
    "letter = fruit[1]\n",
    "print(letter)"
   ]
  },
  {
   "cell_type": "code",
   "execution_count": 2,
   "id": "982d71e1-ddbf-418e-8e61-f2d613c0b42e",
   "metadata": {},
   "outputs": [
    {
     "name": "stdout",
     "output_type": "stream",
     "text": [
      "b\n"
     ]
    }
   ],
   "source": [
    "letter = fruit[0]\n",
    "print(letter)"
   ]
  },
  {
   "cell_type": "code",
   "execution_count": 3,
   "id": "69913e2b-b1c6-4238-becf-d47ed00131cc",
   "metadata": {},
   "outputs": [
    {
     "data": {
      "text/plain": [
       "6"
      ]
     },
     "execution_count": 3,
     "metadata": {},
     "output_type": "execute_result"
    }
   ],
   "source": [
    "len(fruit)"
   ]
  },
  {
   "cell_type": "code",
   "execution_count": 4,
   "id": "b8ea08bc-d0f1-475a-a2af-39ff50e57673",
   "metadata": {},
   "outputs": [
    {
     "name": "stdout",
     "output_type": "stream",
     "text": [
      "a\n"
     ]
    }
   ],
   "source": [
    "length = len(fruit)\n",
    "last = fruit[length-1]\n",
    "print(last)"
   ]
  },
  {
   "cell_type": "code",
   "execution_count": 5,
   "id": "89ad3926-4ae8-4d1a-b6c0-73af9639b5a9",
   "metadata": {},
   "outputs": [
    {
     "name": "stdout",
     "output_type": "stream",
     "text": [
      "a\n"
     ]
    }
   ],
   "source": [
    "print(fruit[-1])"
   ]
  },
  {
   "cell_type": "code",
   "execution_count": 10,
   "id": "9c4f7b67-ed7f-42d8-8f9a-b82ac51b48d3",
   "metadata": {},
   "outputs": [
    {
     "name": "stdout",
     "output_type": "stream",
     "text": [
      "b\n",
      "a\n",
      "n\n",
      "a\n",
      "n\n",
      "a\n"
     ]
    }
   ],
   "source": [
    "index = 0\n",
    "while index < len(fruit):\n",
    "    letter = fruit[index]\n",
    "    print(letter)\n",
    "    index += 1"
   ]
  },
  {
   "cell_type": "code",
   "execution_count": 40,
   "id": "d464e40b-d607-4779-8e8a-b478ea4ad0a6",
   "metadata": {},
   "outputs": [
    {
     "name": "stdout",
     "output_type": "stream",
     "text": [
      "Monty\n",
      "Python\n"
     ]
    }
   ],
   "source": [
    "s = 'Monty Python'\n",
    "print(s[:5])\n",
    "print(s[6:])"
   ]
  },
  {
   "cell_type": "code",
   "execution_count": 42,
   "id": "42d30574-fb07-46d7-9bad-bc6574e7d221",
   "metadata": {},
   "outputs": [
    {
     "name": "stdout",
     "output_type": "stream",
     "text": [
      "ban\n",
      "ana\n"
     ]
    }
   ],
   "source": [
    "print(fruit[:3])\n",
    "print(fruit[3:])"
   ]
  },
  {
   "cell_type": "code",
   "execution_count": 2,
   "id": "ae24fd1a-51f2-4602-a455-696f8ee4239f",
   "metadata": {},
   "outputs": [
    {
     "data": {
      "text/plain": [
       "True"
      ]
     },
     "execution_count": 2,
     "metadata": {},
     "output_type": "execute_result"
    }
   ],
   "source": [
    "line = 'Have a nice day'\n",
    "line.startswith(\"Have\")"
   ]
  },
  {
   "cell_type": "code",
   "execution_count": 3,
   "id": "1ddfd5cb-9354-4b2b-9806-2b1958fadb08",
   "metadata": {},
   "outputs": [
    {
     "data": {
      "text/plain": [
       "True"
      ]
     },
     "execution_count": 3,
     "metadata": {},
     "output_type": "execute_result"
    }
   ],
   "source": [
    "line.startswith(\"H\")"
   ]
  },
  {
   "cell_type": "code",
   "execution_count": 25,
   "id": "716ac8c7-8b15-46ad-b390-ca14181f6fc4",
   "metadata": {},
   "outputs": [
    {
     "name": "stdout",
     "output_type": "stream",
     "text": [
      "uct.ac.za\n"
     ]
    }
   ],
   "source": [
    "data = \"From stephen.marquard@uct.ac.za Sat Jan  5 09:14:16 2008\"\n",
    "atpos = data.find('@')\n",
    "# print(atpos)\n",
    "postpos = data.find(' ',atpos)\n",
    "# print(postpos)\n",
    "host = data[atpos+1:postpos]\n",
    "print(host)"
   ]
  },
  {
   "cell_type": "code",
   "execution_count": 28,
   "id": "2bfc1268-f1a5-415e-96b6-f8f0921172c7",
   "metadata": {},
   "outputs": [
    {
     "name": "stdin",
     "output_type": "stream",
     "text": [
      ">  done\n"
     ]
    },
    {
     "name": "stdout",
     "output_type": "stream",
     "text": [
      "Done!\n"
     ]
    }
   ],
   "source": [
    "while True:\n",
    "    line = input('> ')\n",
    "    if line[0] == '#':\n",
    "        continue\n",
    "    if line == 'done':\n",
    "        break\n",
    "    print(line)\n",
    "print('Done!')"
   ]
  },
  {
   "cell_type": "code",
   "execution_count": 29,
   "id": "55f1c432-b87a-4774-8e6f-734ab07fb933",
   "metadata": {},
   "outputs": [
    {
     "name": "stdin",
     "output_type": "stream",
     "text": [
      ">  hello\n"
     ]
    },
    {
     "name": "stdout",
     "output_type": "stream",
     "text": [
      "hello\n"
     ]
    },
    {
     "name": "stdin",
     "output_type": "stream",
     "text": [
      ">  #comment\n",
      ">  \n"
     ]
    },
    {
     "name": "stdout",
     "output_type": "stream",
     "text": [
      "\n"
     ]
    },
    {
     "name": "stdin",
     "output_type": "stream",
     "text": [
      ">  \n"
     ]
    },
    {
     "name": "stdout",
     "output_type": "stream",
     "text": [
      "\n"
     ]
    },
    {
     "name": "stdin",
     "output_type": "stream",
     "text": [
      ">  \n"
     ]
    },
    {
     "name": "stdout",
     "output_type": "stream",
     "text": [
      "\n"
     ]
    },
    {
     "name": "stdin",
     "output_type": "stream",
     "text": [
      ">  \n"
     ]
    },
    {
     "name": "stdout",
     "output_type": "stream",
     "text": [
      "\n"
     ]
    },
    {
     "name": "stdin",
     "output_type": "stream",
     "text": [
      ">   \n"
     ]
    },
    {
     "name": "stdout",
     "output_type": "stream",
     "text": [
      " \n"
     ]
    },
    {
     "name": "stdin",
     "output_type": "stream",
     "text": [
      ">   \n"
     ]
    },
    {
     "name": "stdout",
     "output_type": "stream",
     "text": [
      " \n"
     ]
    },
    {
     "name": "stdin",
     "output_type": "stream",
     "text": [
      ">   \n"
     ]
    },
    {
     "name": "stdout",
     "output_type": "stream",
     "text": [
      " \n"
     ]
    },
    {
     "name": "stdin",
     "output_type": "stream",
     "text": [
      ">   \n"
     ]
    },
    {
     "name": "stdout",
     "output_type": "stream",
     "text": [
      " \n"
     ]
    },
    {
     "name": "stdin",
     "output_type": "stream",
     "text": [
      ">  done\n"
     ]
    },
    {
     "name": "stdout",
     "output_type": "stream",
     "text": [
      "Done!\n"
     ]
    }
   ],
   "source": [
    "while True:\n",
    "    line = input('> ')\n",
    "    if len(line) > 0 and line[0] == '#':\n",
    "        continue\n",
    "    if line == 'done':\n",
    "        break\n",
    "    print(line)\n",
    "print('Done!')"
   ]
  },
  {
   "cell_type": "markdown",
   "id": "dc5d19df-8ddc-4d61-ac68-af7b6970affd",
   "metadata": {},
   "source": [
    "## Exercises"
   ]
  },
  {
   "cell_type": "markdown",
   "id": "785fa3c3-34c6-4fe9-9c7a-e81a0a90fff8",
   "metadata": {},
   "source": [
    "## __Exercise 1:__ Write a while loop that starts at the last character in the string and works its way backwards to the first character in the string, printing each letter on a separate line, except backwards."
   ]
  },
  {
   "cell_type": "code",
   "execution_count": 21,
   "id": "d86d0b52-b878-48e2-a63c-7c16197f9ff4",
   "metadata": {},
   "outputs": [
    {
     "name": "stdout",
     "output_type": "stream",
     "text": [
      "a\n",
      "n\n",
      "a\n",
      "n\n",
      "a\n",
      "b\n"
     ]
    }
   ],
   "source": [
    "# Reverse string with while loop\n",
    "index = 0\n",
    "while index < len(fruit):\n",
    "    letter = fruit[-1 + index*(-1)]\n",
    "    print(letter)\n",
    "    index += 1"
   ]
  },
  {
   "cell_type": "code",
   "execution_count": 38,
   "id": "0422b962-31dd-4e1c-9068-88a2ff12d768",
   "metadata": {},
   "outputs": [
    {
     "name": "stdout",
     "output_type": "stream",
     "text": [
      "a\n",
      "n\n",
      "a\n",
      "n\n",
      "a\n",
      "b\n"
     ]
    }
   ],
   "source": [
    "# reverse string with for loop\n",
    "reverse = []\n",
    "for i in range(len(fruit) -1, -1, -1):\n",
    "    print(fruit[i])"
   ]
  },
  {
   "cell_type": "markdown",
   "id": "7f583adb-e21f-4b45-920d-408c73fcc9c8",
   "metadata": {},
   "source": [
    "## __Exercise 2:__ Given that fruit is a string, what does fruit[:] mean?"
   ]
  },
  {
   "cell_type": "code",
   "execution_count": 43,
   "id": "bf53c29b-3702-4e42-a9d9-03182cba464f",
   "metadata": {},
   "outputs": [
    {
     "data": {
      "text/plain": [
       "'banana'"
      ]
     },
     "execution_count": 43,
     "metadata": {},
     "output_type": "execute_result"
    }
   ],
   "source": [
    "fruit[:]"
   ]
  },
  {
   "cell_type": "markdown",
   "id": "c24e681b-3824-46c1-98bc-a5ddae50d5c4",
   "metadata": {},
   "source": [
    "__Answer:__ That mean that we want to include all element from zeroth to the final one, so everything in a string, so we get all the string with all the characters back"
   ]
  },
  {
   "cell_type": "markdown",
   "id": "eb30310f-311f-4286-ba65-e2289e28be15",
   "metadata": {},
   "source": [
    "## __Exercise 3:__ Encapsulate this code in a function named count, and generalize it so that it accepts the string and the letter as arguments.\n",
    "\n",
    "word = 'banana'   \n",
    "count = 0    \n",
    "for letter in word:    \n",
    "    if letter == 'a':   \n",
    "        count = count + 1   \n",
    "print(count)   "
   ]
  },
  {
   "cell_type": "code",
   "execution_count": 7,
   "id": "665dc9c7-5d13-484c-bf15-140ac2b2a310",
   "metadata": {},
   "outputs": [
    {
     "name": "stdout",
     "output_type": "stream",
     "text": [
      "3\n",
      "1\n",
      "2\n"
     ]
    }
   ],
   "source": [
    "def counting(word):\n",
    "    \"\"\"\n",
    "    Function for counting how many times letter 'a' appears in the string.\n",
    "    With addition applying method .lower() to string so capital A counts as well\n",
    "    \"\"\"\n",
    "    count = 0    \n",
    "    for letter in word.lower():    \n",
    "        if letter == 'a':   \n",
    "            count = count + 1   \n",
    "    print(count)\n",
    "\n",
    "counting(\"banana\")\n",
    "counting(\"train\")\n",
    "counting(\"Austrlia\")"
   ]
  },
  {
   "cell_type": "markdown",
   "id": "25d32627-1086-4692-a53e-8ccc219c22ff",
   "metadata": {},
   "source": [
    "## __Exercise 4:__ There is a string method called count that is similar to the function in the previous exercise. \n",
    "\n",
    "Read the documentation of this method at: (https://docs.python.org/library/stdtypes.html#string-methods) \n",
    "\n",
    "Write an invocation that counts the number of times the letter a occurs in “banana”."
   ]
  },
  {
   "cell_type": "code",
   "execution_count": 13,
   "id": "e15f855f-dde1-48b7-9728-025110cc1805",
   "metadata": {},
   "outputs": [
    {
     "data": {
      "text/plain": [
       "3"
      ]
     },
     "execution_count": 13,
     "metadata": {},
     "output_type": "execute_result"
    }
   ],
   "source": [
    "string = 'banana'\n",
    "string.count('a')"
   ]
  },
  {
   "cell_type": "markdown",
   "id": "5efe29dd-7803-4373-9cb4-4637fea73691",
   "metadata": {},
   "source": [
    "## __Exercise 5:__ Slicing strings. \n",
    "\n",
    "Take the following Python code that stores a string: \n",
    "\n",
    "str = 'X-DSPAM-Confidence: 0.8475'     \n",
    "\n",
    "Use find and string slicing to extract the portion of the string after the colon character and then use the float function to convert the extracted string into a floating point number.   "
   ]
  },
  {
   "cell_type": "code",
   "execution_count": 35,
   "id": "9986879d-c6d1-4a5d-90a2-512ff26a7355",
   "metadata": {},
   "outputs": [
    {
     "name": "stdout",
     "output_type": "stream",
     "text": [
      "0.8475\n",
      "<class 'float'>\n"
     ]
    }
   ],
   "source": [
    "str = 'X-DSPAM-Confidence: 0.8475'     \n",
    "\n",
    "colonpos = str.find(':')\n",
    "number = str[colonpos+1:]\n",
    "number.strip()\n",
    "number = float(number)\n",
    "print(number)\n",
    "print(type(number))"
   ]
  },
  {
   "cell_type": "markdown",
   "id": "b3d4440a-9438-4f74-8b2b-147ddf67012e",
   "metadata": {},
   "source": [
    "## __Exercise 6:__ String methods\n",
    "\n",
    "Read the documentation of the string methods at https://docs.python.org/library/stdtypes.html#string-methods. You might want to experiment with some of them to make sure you understand how they work. strip and replace are particularly useful.\n",
    "\n",
    "The documentation uses a syntax that might be confusing. For example, in find(sub[, start[, end]]), the brackets indicate optional arguments. So sub is required, but start is optional, and if you include start, then end is optional."
   ]
  },
  {
   "cell_type": "code",
   "execution_count": 49,
   "id": "2d437346-f7b8-4c46-8338-5119bd9875f3",
   "metadata": {},
   "outputs": [
    {
     "name": "stdout",
     "output_type": "stream",
     "text": [
      "Capitalize: Test string\n",
      "Casefold: test string\n",
      "Center:             test string            \n",
      "Count 's': 2\n",
      "Encode: b'test string'\n",
      "Endswith: False\n",
      "Expandtabs: test string\n",
      "Find: 2\n"
     ]
    }
   ],
   "source": [
    "test_string = 'test string'\n",
    "print(f\"Capitalize: {test_string.capitalize()}\")\n",
    "print(f\"Casefold: {test_string.casefold()}\") # simmilar to lowercase but more agressive\n",
    "print(f\"Center: {test_string.center(35)}\")\n",
    "print(f\"Count 's': {test_string.count('s')}\")\n",
    "print(f\"Encode: {test_string.encode(encoding='utf-8', errors='strict')}\")\n",
    "print(f\"Endswith: {test_string.endswith(' some ending')}\")\n",
    "print(f\"Expandtabs: {test_string.expandtabs(tabsize=8)}\")\n",
    "print(f\"Find: {test_string.find('s')}\")"
   ]
  },
  {
   "cell_type": "code",
   "execution_count": null,
   "id": "4428bc27-3258-4482-953c-a7b297499a50",
   "metadata": {},
   "outputs": [],
   "source": []
  }
 ],
 "metadata": {
  "kernelspec": {
   "display_name": "Python 3 (ipykernel)",
   "language": "python",
   "name": "python3"
  },
  "language_info": {
   "codemirror_mode": {
    "name": "ipython",
    "version": 3
   },
   "file_extension": ".py",
   "mimetype": "text/x-python",
   "name": "python",
   "nbconvert_exporter": "python",
   "pygments_lexer": "ipython3",
   "version": "3.11.5"
  }
 },
 "nbformat": 4,
 "nbformat_minor": 5
}
