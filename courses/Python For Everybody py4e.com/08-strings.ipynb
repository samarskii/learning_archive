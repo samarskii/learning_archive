{
 "cells": [
  {
   "cell_type": "markdown",
   "id": "8348213c-6ed1-4202-99ee-dfd49775cccb",
   "metadata": {},
   "source": [
    "# Strings\n",
    "### __Link to materials:__ [https://www.py4e.com/html3/08-lists]\n",
    "### __Author:__ Samarskii\n",
    "### __Date:__ 19/03/2024 - 24/03/2024"
   ]
  },
  {
   "cell_type": "markdown",
   "id": "d28413cf-cbec-492d-9c0f-56ac20a783ef",
   "metadata": {},
   "source": [
    "## Theory"
   ]
  },
  {
   "cell_type": "code",
   "execution_count": 16,
   "id": "443cf899-bc42-47fa-bedb-49455ccb1651",
   "metadata": {},
   "outputs": [
    {
     "name": "stdout",
     "output_type": "stream",
     "text": [
      "Sat\n",
      "Fri\n",
      "Fri\n",
      "Fri\n",
      "Fri\n",
      "Fri\n",
      "Fri\n",
      "Fri\n",
      "Fri\n",
      "Fri\n",
      "Fri\n",
      "Fri\n",
      "Fri\n",
      "Fri\n",
      "Fri\n",
      "Fri\n",
      "Fri\n",
      "Fri\n",
      "Fri\n",
      "Fri\n",
      "Fri\n",
      "Thu\n",
      "Thu\n",
      "Thu\n",
      "Thu\n",
      "Thu\n",
      "Thu\n"
     ]
    }
   ],
   "source": [
    "fhand = open('mbox-short.txt')\n",
    "for line in fhand:\n",
    "    words = line.split()\n",
    "    # print('Debug', words) # Debug\n",
    "    if len(words) == 0: continue\n",
    "    if words[0] != 'From' : continue\n",
    "    print(words[2])"
   ]
  },
  {
   "cell_type": "markdown",
   "id": "be9a9ea9-5add-4b1e-b3fe-7c458e9d5786",
   "metadata": {},
   "source": [
    "## Exercises"
   ]
  },
  {
   "cell_type": "markdown",
   "id": "9b029e2f-afbd-4b28-b652-6263ff371d07",
   "metadata": {},
   "source": [
    "## __Exercise 1:__ Write a function called chop that takes a list and modifies it, removing the first and last elements, and returns None. Then write a function called middle that takes a list and returns a new list that contains all but the first and last elements."
   ]
  },
  {
   "cell_type": "code",
   "execution_count": 9,
   "id": "8e4f8be3-3002-4e8a-bed0-d2b103512be1",
   "metadata": {},
   "outputs": [
    {
     "name": "stdout",
     "output_type": "stream",
     "text": [
      "My original listmy_list: [0, 15, 'a', 'dd', 212, '12', 'last']\n",
      "My modified list my_list after chop(): [15, 'a', 'dd', 212, '12']\n",
      "My modified list my_list after chop() and middle(): [15, 'a', 'dd', 212, '12']\n",
      "My modified second = middle(my_list): ['a', 'dd', 212]\n"
     ]
    }
   ],
   "source": [
    "# def chop(alist):\n",
    "#     \"\"\"\n",
    "#     Void function that remove first and last element of the list with del\n",
    "#     \"\"\"\n",
    "#     del alist[0]\n",
    "#     del alist[-1]\n",
    "#     return None\n",
    "\n",
    "def chop(alist):\n",
    "    \"\"\"\n",
    "    Void function that remove first and last element of the list with pop()\n",
    "    \"\"\"\n",
    "    alist.pop(0)\n",
    "    alist.pop(-1)\n",
    "    return None\n",
    "\n",
    "def middle(alist):\n",
    "    \"\"\"\n",
    "    Function that removes first and last element of the list without modifying original list\n",
    "    \"\"\"\n",
    "    return alist[1:-1]\n",
    "\n",
    "my_list = [0, 15, 'a', 'dd', 212, '12', 'last']\n",
    "\n",
    "print(f\"My original listmy_list: {my_list}\")\n",
    "\n",
    "first = chop(my_list)\n",
    "\n",
    "print(f\"My modified list my_list after chop(): {my_list}\")\n",
    "\n",
    "second = middle(my_list)\n",
    "\n",
    "print(f\"My modified list my_list after chop() and middle(): {my_list}\")\n",
    "print(f\"My modified second = middle(my_list): {second}\")"
   ]
  },
  {
   "cell_type": "markdown",
   "id": "2498f86c-f9d9-4eb4-8258-d02dd11d9572",
   "metadata": {},
   "source": [
    "## __Exercise 2:__ Figure out which line of the above program is still not properly guarded. See if you can construct a text file which causes the program to fail and then modify the program so that the line is properly guarded and test it to make sure it handles your new text file."
   ]
  },
  {
   "cell_type": "code",
   "execution_count": 19,
   "id": "47d88576-c49c-440c-9eb8-2f2e7bee30ee",
   "metadata": {},
   "outputs": [
    {
     "name": "stdout",
     "output_type": "stream",
     "text": [
      "Sat\n",
      "Fri\n",
      "Fri\n",
      "Fri\n",
      "Fri\n",
      "Fri\n",
      "Fri\n",
      "Fri\n",
      "Fri\n",
      "Fri\n",
      "Fri\n",
      "Fri\n",
      "Fri\n",
      "Fri\n",
      "Fri\n",
      "Fri\n",
      "Fri\n",
      "Fri\n",
      "Fri\n",
      "Fri\n",
      "Fri\n",
      "Thu\n",
      "Thu\n",
      "Thu\n",
      "Thu\n",
      "Thu\n",
      "Thu\n"
     ]
    }
   ],
   "source": [
    "fhand = open('mbox-short.txt')\n",
    "count = 0\n",
    "for line in fhand:\n",
    "    words = line.split()\n",
    "    # print('Debug:', words)\n",
    "    if len(words) == 0 : continue\n",
    "    if words[0] != 'From': continue\n",
    "    if len(words) < 3:\n",
    "        print(\"Line has fewer than 3 words:\", line.rstrip())\n",
    "    else:\n",
    "        print(words[2])"
   ]
  },
  {
   "cell_type": "markdown",
   "id": "58a688c6-6660-4882-a9ab-ea77c762728b",
   "metadata": {},
   "source": [
    "## __Exercise 3:__ Rewrite the guardian code in the above example without two if statements. Instead, use a compound logical expression using the or logical operator with a single if statement."
   ]
  },
  {
   "cell_type": "code",
   "execution_count": 24,
   "id": "c052d6b6-306b-439e-b9ab-d76a39a75618",
   "metadata": {},
   "outputs": [
    {
     "name": "stdout",
     "output_type": "stream",
     "text": [
      "Sat\n",
      "Fri\n",
      "Fri\n",
      "Fri\n",
      "Fri\n",
      "Fri\n",
      "Fri\n",
      "Fri\n",
      "Fri\n",
      "Fri\n",
      "Fri\n",
      "Fri\n",
      "Fri\n",
      "Fri\n",
      "Fri\n",
      "Fri\n",
      "Fri\n",
      "Fri\n",
      "Fri\n",
      "Fri\n",
      "Fri\n",
      "Thu\n",
      "Thu\n",
      "Thu\n",
      "Thu\n",
      "Thu\n",
      "Thu\n"
     ]
    }
   ],
   "source": [
    "fhand = open('mbox-short.txt')\n",
    "count = 0\n",
    "for line in fhand:\n",
    "    words = line.split()\n",
    "    # print('Debug:', words)\n",
    "    if len(words) == 0 or words[0] != 'From': \n",
    "        continue\n",
    "    print(words[2])"
   ]
  },
  {
   "cell_type": "markdown",
   "id": "abd5682e-b611-48b9-9c9e-7c95eef19dd9",
   "metadata": {},
   "source": [
    "## __Exercise 4:__ Find all unique words in a file"
   ]
  },
  {
   "cell_type": "code",
   "execution_count": 45,
   "id": "12e7f4e9-7b3e-4607-9363-832ec58833df",
   "metadata": {},
   "outputs": [
    {
     "name": "stdin",
     "output_type": "stream",
     "text": [
      "Enter file:  romeo.txt\n"
     ]
    },
    {
     "name": "stdout",
     "output_type": "stream",
     "text": [
      "['Arise', 'But', 'It', 'Juliet', 'Who', 'already', 'and', 'breaks', 'east', 'envious', 'fair', 'grief', 'is', 'kill', 'light', 'moon', 'pale', 'sick', 'soft', 'sun', 'the', 'through', 'what', 'window', 'with', 'yonder']\n"
     ]
    }
   ],
   "source": [
    "try:\n",
    "    finput = input(\"Enter file: \")\n",
    "    fhand = open(finput)\n",
    "except:\n",
    "    print(\"An error occured!\")\n",
    "    \n",
    "unique = []\n",
    "\n",
    "for line in fhand:\n",
    "    line.rstrip()\n",
    "    words = line.split()\n",
    "    # print(line)\n",
    "    for word in words:\n",
    "        if word not in unique:\n",
    "            unique.append(word)\n",
    "            unique.sort()\n",
    "            \n",
    "print(unique)"
   ]
  },
  {
   "cell_type": "markdown",
   "id": "73361db1-f7d9-46b4-9963-5c309fe40bc0",
   "metadata": {},
   "source": [
    "## __Exercise 5:__ Minimalist Email Client."
   ]
  },
  {
   "cell_type": "code",
   "execution_count": 74,
   "id": "01e77655-a923-4f5e-a664-8fd96fd5ff66",
   "metadata": {},
   "outputs": [
    {
     "name": "stdin",
     "output_type": "stream",
     "text": [
      "Enter file:  mbox-short.txt\n"
     ]
    },
    {
     "name": "stdout",
     "output_type": "stream",
     "text": [
      "stephen.marquard@uct.ac.za\n",
      "louis@media.berkeley.edu\n",
      "zqian@umich.edu\n",
      "rjlowe@iupui.edu\n",
      "zqian@umich.edu\n",
      "rjlowe@iupui.edu\n",
      "cwen@iupui.edu\n",
      "cwen@iupui.edu\n",
      "gsilver@umich.edu\n",
      "gsilver@umich.edu\n",
      "zqian@umich.edu\n",
      "gsilver@umich.edu\n",
      "wagnermr@iupui.edu\n",
      "zqian@umich.edu\n",
      "antranig@caret.cam.ac.uk\n",
      "gopal.ramasammycook@gmail.com\n",
      "david.horwitz@uct.ac.za\n",
      "david.horwitz@uct.ac.za\n",
      "david.horwitz@uct.ac.za\n",
      "david.horwitz@uct.ac.za\n",
      "stephen.marquard@uct.ac.za\n",
      "louis@media.berkeley.edu\n",
      "louis@media.berkeley.edu\n",
      "ray@media.berkeley.edu\n",
      "cwen@iupui.edu\n",
      "cwen@iupui.edu\n",
      "cwen@iupui.edu\n",
      "There were 27 lines in the file with From as the first word\n"
     ]
    }
   ],
   "source": [
    "try:\n",
    "    finput = input(\"Enter file: \")\n",
    "    fhand = open(finput)\n",
    "except:\n",
    "    print(\"An error occured!\")\n",
    "\n",
    "count = 0\n",
    "for line in fhand:\n",
    "    line.split()\n",
    "    line = line.rstrip()\n",
    "    if line.startswith('From:'):\n",
    "        newline = line[line.find(' ')+1:]\n",
    "        print(newline)\n",
    "        count += 1\n",
    "print(f\"There were {count} lines in the file with From as the first word\")"
   ]
  },
  {
   "cell_type": "markdown",
   "id": "75a1c710-bd45-4347-99ab-5c386aa6b29c",
   "metadata": {},
   "source": [
    "## __Exercise 6:__"
   ]
  },
  {
   "cell_type": "code",
   "execution_count": 70,
   "id": "a1e21bf3-4229-4430-813f-6238905d9f36",
   "metadata": {},
   "outputs": [
    {
     "name": "stdin",
     "output_type": "stream",
     "text": [
      "Enter a number:  6\n",
      "Enter a number:  2\n",
      "Enter a number:  9\n",
      "Enter a number:  3\n",
      "Enter a number:  5\n",
      "Enter a number:  done\n"
     ]
    },
    {
     "name": "stdout",
     "output_type": "stream",
     "text": [
      "Maximum: 9.0\n",
      "Minimum: 2.0\n"
     ]
    }
   ],
   "source": [
    "numbers = []\n",
    "\n",
    "while True: \n",
    "    number = input(\"Enter a number: \")\n",
    "    if number == 'done':\n",
    "        break\n",
    "    try:\n",
    "        number = float(number)\n",
    "        numbers.append(number)\n",
    "    except:\n",
    "        break\n",
    "    \n",
    "print(f\"Maximum: {max(numbers)}\")\n",
    "print(f\"Minimum: {min(numbers)}\")"
   ]
  },
  {
   "cell_type": "code",
   "execution_count": null,
   "id": "3c5749dd-8fbf-4efe-92d3-d648c46ba463",
   "metadata": {},
   "outputs": [],
   "source": []
  }
 ],
 "metadata": {
  "kernelspec": {
   "display_name": "Python 3 (ipykernel)",
   "language": "python",
   "name": "python3"
  },
  "language_info": {
   "codemirror_mode": {
    "name": "ipython",
    "version": 3
   },
   "file_extension": ".py",
   "mimetype": "text/x-python",
   "name": "python",
   "nbconvert_exporter": "python",
   "pygments_lexer": "ipython3",
   "version": "3.11.7"
  }
 },
 "nbformat": 4,
 "nbformat_minor": 5
}
