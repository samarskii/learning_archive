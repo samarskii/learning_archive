{
 "cells": [
  {
   "cell_type": "markdown",
   "id": "4f97a84b-157c-40f9-a2ed-518bb263a57c",
   "metadata": {},
   "source": [
    "# Iteration\n",
    "Date: 09/03/2024"
   ]
  },
  {
   "cell_type": "markdown",
   "id": "5bcac44b-c565-4b93-b1a5-de4ef20ed3b2",
   "metadata": {},
   "source": [
    "## __Exercise 1:__ Write a program which repeatedly reads integers until the user enters “done”. Once “done” is entered, print out the total, count, and average of the integers. If the user enters anything other than a integers, detect their mistake using try and except and print an error message and skip to the next integers.\n",
    "\n",
    "Enter a number: 4   \n",
    "Enter a number: 5   \n",
    "Enter a number: bad data   \n",
    "Invalid input   \n",
    "Enter a number: 7   \n",
    "Enter a number: done   \n",
    "16 3 5.333333333333333   "
   ]
  },
  {
   "cell_type": "code",
   "execution_count": 2,
   "id": "880c9ef7-6e29-42ae-9b58-c96069be2f26",
   "metadata": {
    "scrolled": true
   },
   "outputs": [
    {
     "name": "stdin",
     "output_type": "stream",
     "text": [
      "Enter a number:  10\n",
      "Enter a number:  15\n",
      "Enter a number:  25\n",
      "Enter a number:  45\n",
      "Enter a number:  stop\n"
     ]
    },
    {
     "name": "stdout",
     "output_type": "stream",
     "text": [
      "Invalid input\n"
     ]
    },
    {
     "name": "stdin",
     "output_type": "stream",
     "text": [
      "Enter a number:  55\n",
      "Enter a number:  done\n"
     ]
    },
    {
     "name": "stdout",
     "output_type": "stream",
     "text": [
      "150, 5, 30.0\n"
     ]
    }
   ],
   "source": [
    "counts = []\n",
    "while True:\n",
    "    user_input = input(\"Enter a number: \")\n",
    "    if user_input != 'done':\n",
    "        try:\n",
    "            user_input = int(user_input)\n",
    "            counts.append(user_input)\n",
    "        except:\n",
    "            print(\"Invalid input\")\n",
    "    else:\n",
    "        print(f\"{sum(counts)}, {len(counts)}, {sum(counts)/len(counts)}\")\n",
    "        break"
   ]
  },
  {
   "cell_type": "markdown",
   "id": "c0291c03-c5ea-46bd-bcf5-aa8cbcef1436",
   "metadata": {},
   "source": [
    "## __Exercise 2:__ Write another program that prompts for a list of numbers as above and at the end prints out both the maximum and minimum of the numbers instead of the average."
   ]
  },
  {
   "cell_type": "code",
   "execution_count": null,
   "id": "b8558c65-1ef7-447f-842a-75f408ef3451",
   "metadata": {},
   "outputs": [],
   "source": [
    "counts = []\n",
    "while True:\n",
    "    user_input = input(\"Enter a number: \")\n",
    "    if user_input != 'done':\n",
    "        try:\n",
    "            user_input = int(user_input)\n",
    "            counts.append(user_input)\n",
    "        except:\n",
    "            print(\"Invalid input\")\n",
    "    else:\n",
    "        print(f\"Maximum is {max(counts)}\")\n",
    "        print(f\"Minimum is {min(counts)}\")\n",
    "        break"
   ]
  },
  {
   "cell_type": "code",
   "execution_count": null,
   "id": "32707540-b702-4526-b8e1-9e89b8fc5acb",
   "metadata": {},
   "outputs": [],
   "source": []
  }
 ],
 "metadata": {
  "kernelspec": {
   "display_name": "Python 3 (ipykernel)",
   "language": "python",
   "name": "python3"
  },
  "language_info": {
   "codemirror_mode": {
    "name": "ipython",
    "version": 3
   },
   "file_extension": ".py",
   "mimetype": "text/x-python",
   "name": "python",
   "nbconvert_exporter": "python",
   "pygments_lexer": "ipython3",
   "version": "3.11.5"
  }
 },
 "nbformat": 4,
 "nbformat_minor": 5
}
