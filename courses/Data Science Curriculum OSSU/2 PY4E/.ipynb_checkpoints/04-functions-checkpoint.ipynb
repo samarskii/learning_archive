{
 "cells": [
  {
   "cell_type": "markdown",
   "id": "628485a8-2f90-4a1b-ad09-3a4f88eb233a",
   "metadata": {},
   "source": [
    "# Functions"
   ]
  },
  {
   "cell_type": "markdown",
   "id": "a17921f3-297f-42e5-8dd1-bc86cb5fc853",
   "metadata": {},
   "source": [
    "## __Exercise 1__: Run the program on your system and see what numbers you get. Run the program more than once and see what numbers you get."
   ]
  },
  {
   "cell_type": "code",
   "execution_count": 13,
   "id": "775de2b8-b5fa-4471-a848-31093a798526",
   "metadata": {},
   "outputs": [
    {
     "name": "stdout",
     "output_type": "stream",
     "text": [
      "0.6231596871247002\n",
      "0.1485808372413313\n",
      "0.562985696833465\n",
      "0.9306533381929566\n",
      "0.2851468022222865\n",
      "0.26491913420765756\n",
      "0.4696164662804686\n",
      "0.3782326452429311\n",
      "0.5340689939903343\n",
      "0.3055671561242861\n"
     ]
    }
   ],
   "source": [
    "import random\n",
    "\n",
    "for i in range(10):\n",
    "    x = random.random()\n",
    "    print(x)"
   ]
  },
  {
   "cell_type": "markdown",
   "id": "91ffdddb-0ccc-4298-b94a-c84f5578e442",
   "metadata": {},
   "source": [
    "## __Exercise 2__: Move the last line of this program to the top, so the function call appears before the definitions. Run the program and see what error message you get."
   ]
  },
  {
   "cell_type": "code",
   "execution_count": 16,
   "id": "a71d3921-cf77-4e9a-b6b4-86bdd8bfb72d",
   "metadata": {},
   "outputs": [
    {
     "name": "stdout",
     "output_type": "stream",
     "text": [
      "I'm a lumberjack, and I'm okay.\n",
      "I sleep all night and I work all day.\n",
      "I'm a lumberjack, and I'm okay.\n",
      "I sleep all night and I work all day.\n"
     ]
    }
   ],
   "source": [
    "repeat_lyrics()\n",
    "\n",
    "def print_lyrics():\n",
    "    print(\"I'm a lumberjack, and I'm okay.\")\n",
    "    print('I sleep all night and I work all day.')\n",
    "\n",
    "\n",
    "def repeat_lyrics():\n",
    "    print_lyrics()\n",
    "    print_lyrics()"
   ]
  },
  {
   "cell_type": "code",
   "execution_count": null,
   "id": "4ba88dc8-a501-4cab-a160-299af89eacbb",
   "metadata": {},
   "outputs": [],
   "source": []
  }
 ],
 "metadata": {
  "kernelspec": {
   "display_name": "Python 3 (ipykernel)",
   "language": "python",
   "name": "python3"
  },
  "language_info": {
   "codemirror_mode": {
    "name": "ipython",
    "version": 3
   },
   "file_extension": ".py",
   "mimetype": "text/x-python",
   "name": "python",
   "nbconvert_exporter": "python",
   "pygments_lexer": "ipython3",
   "version": "3.11.5"
  }
 },
 "nbformat": 4,
 "nbformat_minor": 5
}
