{
 "cells": [
  {
   "cell_type": "markdown",
   "id": "8a23b8d8-9104-4e59-be95-f888c018191e",
   "metadata": {},
   "source": [
    "# Strings\n",
    "\n",
    "Date: 10/03/2024"
   ]
  },
  {
   "cell_type": "code",
   "execution_count": null,
   "id": "01aff871-d8c2-49f4-b3a0-af789241304e",
   "metadata": {},
   "outputs": [],
   "source": []
  }
 ],
 "metadata": {
  "kernelspec": {
   "display_name": "Python 3 (ipykernel)",
   "language": "python",
   "name": "python3"
  },
  "language_info": {
   "codemirror_mode": {
    "name": "ipython",
    "version": 3
   },
   "file_extension": ".py",
   "mimetype": "text/x-python",
   "name": "python",
   "nbconvert_exporter": "python",
   "pygments_lexer": "ipython3",
   "version": "3.11.5"
  }
 },
 "nbformat": 4,
 "nbformat_minor": 5
}
