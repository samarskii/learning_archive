{
 "cells": [
  {
   "cell_type": "markdown",
   "id": "8d1d32fb-b714-4d62-a5c4-8154b4e165b4",
   "metadata": {},
   "source": [
    "# 5. IF STATEMENTS\n",
    "### __Author:__ Samarskii\n",
    "### __Date:__ 02/03/2024"
   ]
  },
  {
   "cell_type": "markdown",
   "id": "f13684fe-7615-4c82-b700-fd8b3b43843a",
   "metadata": {},
   "source": [
    "## Theory:"
   ]
  },
  {
   "cell_type": "code",
   "execution_count": 1,
   "id": "38c052f9-cb11-4223-ab16-630617682c92",
   "metadata": {},
   "outputs": [
    {
     "name": "stdout",
     "output_type": "stream",
     "text": [
      "Audi\n",
      "Bmw\n",
      "Subaru\n",
      "Toyota\n"
     ]
    }
   ],
   "source": [
    "# cars.py\n",
    "cars = ['audi', 'bmw', 'subaru', 'toyota']\n",
    "\n",
    "for car in cars:\n",
    "    if car == 'bwm':\n",
    "        print(car.upper())\n",
    "    else:\n",
    "        print(car.title())"
   ]
  },
  {
   "cell_type": "code",
   "execution_count": 79,
   "id": "947bd362-3990-4f12-8a0c-9b33d8ce0363",
   "metadata": {},
   "outputs": [
    {
     "name": "stdout",
     "output_type": "stream",
     "text": [
      "Hold the anchovies!\n",
      "\n",
      "\n",
      "Adding mushrooms.\n",
      "Sorry, we are out of green peppers right now.\n",
      "Adding extra cheese.\n",
      "\n",
      "Finished making your pizza!\n",
      "\n",
      "\n",
      "Are you sure you want a plain pizza?\n"
     ]
    }
   ],
   "source": [
    "# toppings.py\n",
    "requested_topping = 'mushrooms'\n",
    "\n",
    "if requested_topping != 'anchovies':\n",
    "    print(\"Hold the anchovies!\")\n",
    "print(\"\\n\")\n",
    "\n",
    "requested_toppings = ['mushrooms', 'green peppers', 'extra cheese']\n",
    "\n",
    "# if 'mushrooms' in requested_toppings: \n",
    "#     print(\"Adding mushrooms.\")\n",
    "# elif 'pepperoni' in requested_toppings:\n",
    "#     print(\"Adding pepperoni.\")\n",
    "# elif 'extra cheese' in requested_toppings:\n",
    "#     print(\"Adding extra cheese.\")\n",
    "\n",
    "# print(\"\\nFinished making your pizza!\")\n",
    "\n",
    "for requested_topping in requested_toppings:\n",
    "    if requested_topping == 'green peppers':\n",
    "        print(\"Sorry, we are out of green peppers right now.\")\n",
    "    else:\n",
    "        print(f\"Adding {requested_topping}.\")\n",
    "\n",
    "print(\"\\nFinished making your pizza!\")\n",
    "print(\"\\n\")\n",
    "\n",
    "\n",
    "requested_toppings = []\n",
    "\n",
    "if requested_toppings:\n",
    "    for requested_topping in requested_toppings:\n",
    "        print(f\"Adding {requested_topping}.\")\n",
    "    print(\"\\nFinished making your pizza!\")\n",
    "else:\n",
    "    print(\"Are you sure you want a plain pizza?\")"
   ]
  },
  {
   "cell_type": "code",
   "execution_count": 82,
   "id": "47f1f9c6-9830-490e-aabf-a50c760fd804",
   "metadata": {},
   "outputs": [
    {
     "name": "stdout",
     "output_type": "stream",
     "text": [
      "Adding mushrooms.\n",
      "Sorry, we don't have french fries.\n",
      "Adding extra cheese.\n",
      "\n",
      "Finished making your pizza!\n"
     ]
    }
   ],
   "source": [
    "available_toppings = [\"mushrooms\", \"olives\", \"green peppers\", \"pepperoni\", \"pineapple\", \"extra cheese\"]\n",
    "\n",
    "requested_toppings = [\"mushrooms\", \"french fries\", \"extra cheese\"]\n",
    "\n",
    "for requested in requested_toppings:\n",
    "    if requested in available_toppings:\n",
    "        print(f\"Adding {requested}.\")\n",
    "    else:\n",
    "        print(f\"Sorry, we don't have {requested}.\")\n",
    "\n",
    "print(\"\\nFinished making your pizza!\")"
   ]
  },
  {
   "cell_type": "code",
   "execution_count": 3,
   "id": "03c267ab-06fb-4e36-93f0-c004f7551064",
   "metadata": {},
   "outputs": [
    {
     "name": "stdout",
     "output_type": "stream",
     "text": [
      "That is not the correct answer. Please try again!\n"
     ]
    }
   ],
   "source": [
    "# magic_numbers.py\n",
    "answer = 17\n",
    "if answer != 42:\n",
    "    print(\"That is not the correct answer. Please try again!\")"
   ]
  },
  {
   "cell_type": "code",
   "execution_count": 6,
   "id": "18d447b8-091b-4664-aa46-bfc0f697ece7",
   "metadata": {},
   "outputs": [
    {
     "name": "stdout",
     "output_type": "stream",
     "text": [
      "Marie, you can post a response if you wish.\n"
     ]
    }
   ],
   "source": [
    "# banned_users.py\n",
    "banned_users = ['andrew', 'carolina', 'david']\n",
    "user = 'marie'\n",
    "if user not in banned_users:\n",
    "    print(f\"{user.title()}, you can post a response if you wish.\")"
   ]
  },
  {
   "cell_type": "code",
   "execution_count": 32,
   "id": "ea956977-f32b-4c0a-b20e-95ea9b5e1280",
   "metadata": {},
   "outputs": [
    {
     "name": "stdout",
     "output_type": "stream",
     "text": [
      "You are old enough to vote!\n",
      "Have you registered to vote yet?\n"
     ]
    }
   ],
   "source": [
    "# voting.py\n",
    "age = 19\n",
    "if age >= 18:\n",
    "    print(\"You are old enough to vote!\")\n",
    "    print(\"Have you registered to vote yet?\")\n",
    "else: \n",
    "    print(\"Sorry, you are too young to vote.\")\n",
    "    print(\"Please register to vote as soon as you turn 18!\")"
   ]
  },
  {
   "cell_type": "code",
   "execution_count": 44,
   "id": "da12b8fe-3165-41e7-91d8-070dffac44af",
   "metadata": {
    "scrolled": true
   },
   "outputs": [
    {
     "name": "stdout",
     "output_type": "stream",
     "text": [
      "Your admission cost is $20\n"
     ]
    }
   ],
   "source": [
    "# amusement_park.py\n",
    "age = 153\n",
    "if age < 4:\n",
    "    # print(\"Your admission cost is $0.\")\n",
    "    price = 0\n",
    "elif age < 18:\n",
    "    # print(\"Your admission cost is $25.\")\n",
    "    price = 25\n",
    "elif age < 65:\n",
    "    price = 40\n",
    "# else:\n",
    "    # print(\"Your admission cost is $40.\")\n",
    "elif age >= 65:\n",
    "    price = 20\n",
    "\n",
    "print(f\"Your admission cost is ${price}\")"
   ]
  },
  {
   "cell_type": "markdown",
   "id": "3c941588-a439-4582-90d2-a318602d0e3d",
   "metadata": {},
   "source": [
    "## Exercises"
   ]
  },
  {
   "cell_type": "markdown",
   "id": "1455aa1a-bea9-4b89-9fca-cff9ab8295c3",
   "metadata": {},
   "source": [
    "#### __5-1. Conditional Tests:__ Write a series of conditional tests. Print a statement describing each test and your prediction for the results of each test. Your code should look something like this:\n",
    "\n",
    "car = 'subaru'  \n",
    "print(\"Is car == 'subaru'? I predict True.\")  \n",
    "print(car == 'subaru')  \n",
    "\n",
    "print(\"\\nIs car == 'audi'? I predict False.\")  \n",
    "print(car == 'audi')  \n",
    "\n",
    "• Look closely at your results, and make sure you understand why each line\n",
    "evaluates to True or False.   \n",
    "• Create at least 10 tests. Have at least 5 tests evaluate to True and another\n",
    "5 tests evaluate to False."
   ]
  },
  {
   "cell_type": "code",
   "execution_count": 17,
   "id": "aef9b340-8cb2-4ba5-8b07-9241ca5d32e3",
   "metadata": {},
   "outputs": [
    {
     "name": "stdout",
     "output_type": "stream",
     "text": [
      "Is 'audi' in cars? I predict True.\n",
      "True\n",
      "Is requested_topping == 'mushrooms'? I predict True.\n",
      "True\n",
      "Is small number < 50? I predict True.\n",
      "True\n",
      "Is medium_number > small_number? I predict True.\n",
      "True\n",
      "Is (small_number + medium number) < 50? I predict True.\n",
      "True\n",
      "Is 'mercedes' in cars? I predict False.\n",
      "False\n",
      "Is requested_topping == 'tomato'? I predict False.\n",
      "False\n",
      "Is small number > 50? I predict False.\n",
      "False\n",
      "Is medium_number < small_number? I predict False.\n",
      "False\n",
      "Is (small_number + medium number) > 50? I predict False.\n",
      "False\n"
     ]
    }
   ],
   "source": [
    "# car = 'subaru'\n",
    "# print(\"Is car == 'subaru'? I predict True.\")\n",
    "# print(car == 'subaru')\n",
    "\n",
    "# print(\"Is car == 'audi'? I predict False.\")\n",
    "# print(car == 'audi')\n",
    "\n",
    "# True statements\n",
    "print(\"Is 'audi' in cars? I predict True.\")\n",
    "print('audi' in cars)\n",
    "\n",
    "print(\"Is requested_topping == 'mushrooms'? I predict True.\")\n",
    "print(requested_topping == 'mushrooms')\n",
    "\n",
    "small_number = 14\n",
    "print(\"Is small number < 50? I predict True.\")\n",
    "print(small_number < 50)\n",
    "\n",
    "medium_number = 35\n",
    "print(\"Is medium_number > small_number? I predict True.\")\n",
    "print(medium_number > small_number)\n",
    "\n",
    "print(\"Is (small_number + medium number) < 50? I predict True.\")\n",
    "print((small_number + medium_number) < 50)\n",
    "\n",
    "# Glase statements\n",
    "print(\"Is 'mercedes' in cars? I predict False.\")\n",
    "print('mercedes' in cars)\n",
    "\n",
    "print(\"Is requested_topping == 'tomato'? I predict False.\")\n",
    "print(requested_topping == 'tomato')\n",
    "\n",
    "small_number = 14\n",
    "print(\"Is small number > 50? I predict False.\")\n",
    "print(small_number > 50)\n",
    "\n",
    "medium_number = 35\n",
    "print(\"Is medium_number < small_number? I predict False.\")\n",
    "print(medium_number < small_number)\n",
    "\n",
    "print(\"Is (small_number + medium number) > 50? I predict False.\")\n",
    "print((small_number + medium_number) > 50)"
   ]
  },
  {
   "cell_type": "markdown",
   "id": "4faa47b7-6293-4ede-bc75-818a59fe359c",
   "metadata": {},
   "source": [
    "#### __5-2.More Conditional Tests:__ You don’t have to limit the number of tests you create to 10. If you want to try more comparisons, write more tests and add them to conditional_tests.py. Have at least one True and one False result for each of the following:\n",
    "\n",
    "•Tests for equality and inequality with strings    \n",
    "•Tests using the lower() method    \n",
    "•Numerical tests involving equality and inequality, greater than and less than, greater than or equal to, and less than or equal to    \n",
    "•Tests using the and keyword and the or keyword    \n",
    "•Test whether an item is in a list    \n",
    "•Test whether an item is not in a list    "
   ]
  },
  {
   "cell_type": "code",
   "execution_count": 29,
   "id": "50cda1b3-ef33-470a-9602-1c2ccbfa5211",
   "metadata": {},
   "outputs": [
    {
     "name": "stdout",
     "output_type": "stream",
     "text": [
      "String1 is: cold; string2 is: warm\n",
      "Is string_1 == 'cold'? True\n",
      "Is string_2 == string_1? False\n",
      "\n",
      "\n",
      "String1 is: Cold\n",
      "Is string_1 == 'cold'? False\n",
      "Is string_1.lower() == 'cold'? True\n",
      "\n",
      "\n",
      "Number is: 45\n",
      "Is Number == 33? False\n",
      "Is Number != 33? True\n",
      "Is Number > 33? True\n",
      "Is Number < 33? False\n",
      "Is Number >= 33? True\n",
      "Is Number <= 33? False\n",
      "\n",
      "\n"
     ]
    }
   ],
   "source": [
    "# Test for equality and inequality with strings\n",
    "string_1 = 'cold'\n",
    "string_2 = 'warm'\n",
    "print(f\"String1 is: {string_1}; string2 is: {string_2}\")\n",
    "print(\"Is string_1 == 'cold'?\", string_1 == 'cold')\n",
    "print(\"Is string_2 == string_1?\", string_2 == string_1)\n",
    "print(\"\\n\")\n",
    "\n",
    "# Tests using the lower() method\n",
    "string_1 = 'Cold'\n",
    "print(f\"String1 is: {string_1}\")\n",
    "print(\"Is string_1 == 'cold'?\",string_1 == 'cold')\n",
    "print(\"Is string_1.lower() == 'cold'?\", string_1.lower() == 'cold')\n",
    "print(\"\\n\")\n",
    "\n",
    "# Numerical tests involving equality and inequality, \n",
    "# greater than and less than, greater than or equal to, and less than or equal to\n",
    "number = 45\n",
    "print(f\"Number is: {number}\")\n",
    "print(\"Is Number == 33?\", number == 33)\n",
    "print(\"Is Number != 33?\",number != 33)\n",
    "print(\"Is Number > 33?\",number > 33)\n",
    "print(\"Is Number < 33?\",number < 33)\n",
    "print(\"Is Number >= 33?\",number >= 33)\n",
    "print(\"Is Number <= 33?\",number <= 33)\n",
    "print(\"\\n\")"
   ]
  },
  {
   "cell_type": "markdown",
   "id": "ccc4c59b-2349-498e-9c9d-d2d24f1e36e6",
   "metadata": {},
   "source": [
    "#### __5-3. Alien Colors #1:__ Imagine an alien was just shot down in a game. Create avariable called alien_color and assign it a value of 'green', 'yellow', or 'red'.\n",
    "\n",
    "•Write an if statement to test whether the alien’s color is green. If it is, print\n",
    "a message that the player just earned 5 points.  \n",
    "•Write one version of this program that passes the if test and another that\n",
    "fails. (The version that fails will have no output.)   "
   ]
  },
  {
   "cell_type": "code",
   "execution_count": 49,
   "id": "6ff28e57-77f4-4826-b9c3-9fcdd46ec8b4",
   "metadata": {},
   "outputs": [
    {
     "name": "stdout",
     "output_type": "stream",
     "text": [
      "You just earned 5 points.\n"
     ]
    }
   ],
   "source": [
    "alien_color = ['green', 'yellow', 'red']\n",
    "\n",
    "color = 'green'\n",
    "if color in alien_color:\n",
    "    print(\"You just earned 5 points.\")\n",
    "if color not in alien_color:\n",
    "    print(\"You just earned 0 points.\")"
   ]
  },
  {
   "cell_type": "markdown",
   "id": "306e7fb3-35ac-4846-958e-cbbe769cf239",
   "metadata": {},
   "source": [
    "#### __5-4. Alien Colors #2:__ Choose a color for an alien as you did in Exercise 5-3,and write an if- else chain.\n",
    "•If the alien’s color is green, print a statement that the player just earned 5 points for shooting the alien.  \n",
    "•If the alien’s color isn’t green, print a statement that the player just earned 10 points.   \n",
    "•Write one version of this program that runs the if block and another that runs the else block.     "
   ]
  },
  {
   "cell_type": "code",
   "execution_count": 57,
   "id": "aad97d8f-8084-4cb5-8194-33cc58756082",
   "metadata": {},
   "outputs": [
    {
     "name": "stdout",
     "output_type": "stream",
     "text": [
      "You just earned 10 points.\n"
     ]
    }
   ],
   "source": [
    "alien_color = ['green', 'yellow', 'red']\n",
    "\n",
    "color = 'blue'\n",
    "if color in alien_color:\n",
    "    print(\"You just earned 5 points.\")\n",
    "else:\n",
    "    print(\"You just earned 10 points.\")"
   ]
  },
  {
   "cell_type": "markdown",
   "id": "5f2ccb9e-9731-4030-a30e-4864c7867d77",
   "metadata": {},
   "source": [
    "#### __5-5. Alien Colors #3:__ Turn your if- else chain from Exercise 5-4 into an if- elif-else chain.\n",
    "•If the alien is green, print a message that the player earned 5 points.  \n",
    "•If the alien is yellow, print a message that the player earned 10 points.  \n",
    "•If the alien is red, print a message that the player earned 15 points.  \n",
    "•Write three versions of this program, making sure each message is printed for the appropriate color alien.  "
   ]
  },
  {
   "cell_type": "code",
   "execution_count": 59,
   "id": "ba523131-3f09-4beb-86ba-69e459837c39",
   "metadata": {},
   "outputs": [
    {
     "name": "stdout",
     "output_type": "stream",
     "text": [
      "You just earnet 10 points.\n"
     ]
    }
   ],
   "source": [
    "alien_color = \"yellow\"\n",
    "\n",
    "if alien_color == \"green\":\n",
    "    print(\"You just earned 5 points.\")\n",
    "if alien_color == \"yellow\":\n",
    "    print(\"You just earnet 10 points.\")\n",
    "if alien_color == \"red\":\n",
    "    print(\"You just earned 15 points.\")"
   ]
  },
  {
   "cell_type": "markdown",
   "id": "4bf0aeed-f1df-4f26-be34-559195a6e768",
   "metadata": {},
   "source": [
    "#### __5-6. Stages of Life:__ Write an if- elif- else chain that determines a person’s stage of life. Set a value for the variable age, and then:\n",
    "•If the person is less than 2 years old, print a message that the person is a baby.    \n",
    "•If the person is at least 2 years old but less than 4, print a message that the\n",
    "person is a toddler.    \n",
    "•If the person is at least 4 years old but less than 13, print a message that\n",
    "the person is a kid.    \n",
    "•If the person is at least 13 years old but less than 20, print a message that\n",
    "the person is a teenager.    \n",
    "•If the person is at least 20 years old but less than 65, print a message that\n",
    "the person is an adult.   \n",
    "•If the person is age 65 or older, print a message that the person is an elder."
   ]
  },
  {
   "cell_type": "code",
   "execution_count": 64,
   "id": "fa0db213-fd25-4028-829e-e32e2f89a92f",
   "metadata": {},
   "outputs": [
    {
     "name": "stdout",
     "output_type": "stream",
     "text": [
      "You are a teenager\n"
     ]
    }
   ],
   "source": [
    "age = 19.5\n",
    "\n",
    "if age < 2:\n",
    "    print(\"You are a baby\")\n",
    "if age >= 2 and age < 4:\n",
    "    print(\"You are a toddler\")\n",
    "if age >= 4 and age < 13:\n",
    "    print(\"You are a kid\")\n",
    "if age >= 13 and age < 20:\n",
    "    print(\"You are a teenager\")\n",
    "if age >= 20 and age < 65:\n",
    "    print(\"You are an adult\")\n",
    "if age >= 65:\n",
    "    print(\"You are and elder\")"
   ]
  },
  {
   "cell_type": "markdown",
   "id": "2d3e51ac-378e-458c-b348-083646a99663",
   "metadata": {},
   "source": [
    "#### __5-7. Favorite Fruit:__ Make a list of your favorite fruits, and then write a series of independent if statements that check for certain fruits in your list.\n",
    "•Make a list of your three favorite fruits and call it favorite_fruits.   \n",
    "•Write five if statements. Each should check whether a certain kind of fruit\n",
    "is in your list. If the fruit is in your list, the if block should print a statement,\n",
    "such as You really like bananas!    "
   ]
  },
  {
   "cell_type": "code",
   "execution_count": 72,
   "id": "40555c83-e3b6-4016-994a-4a10275371f4",
   "metadata": {},
   "outputs": [
    {
     "name": "stdout",
     "output_type": "stream",
     "text": [
      "Banana is not in the ['mango', 'kivi', 'pomelo'].\n",
      "You really like kivi's!'\n"
     ]
    }
   ],
   "source": [
    "favoirite_fruits = ['mango', 'kivi', 'pomelo']\n",
    "\n",
    "fruit = 'banana'\n",
    "def fav_fruit(fruit):\n",
    "    if fruit in favoirite_fruits:\n",
    "        print(f\"You really like {fruit}'s!'\")\n",
    "    else:\n",
    "        print(f\"{fruit.title()} is not in the {favoirite_fruits}.\")\n",
    "    return\n",
    "\n",
    "fav_fruit('banana')\n",
    "fav_fruit('kivi')"
   ]
  },
  {
   "cell_type": "markdown",
   "id": "f42524e3-7b20-4a39-919c-1599362d2f78",
   "metadata": {},
   "source": [
    "#### __5-8. Hello Admin:__ Make a list of five or more usernames, including the name 'admin'. Imagine you are writing code that will print a greeting to each user after they log in to a website. Loop through the list, and print a greeting to each user.\n",
    "•If the username is 'admin', print a special greeting, such as Hello admin,\n",
    "would you like to see a status report?   \n",
    "•Otherwise, print a generic greeting, such as Hello Jaden, thank you for\n",
    "logging in again.   "
   ]
  },
  {
   "cell_type": "code",
   "execution_count": 89,
   "id": "5881b198-e7ba-40b1-a2f9-30298fde1453",
   "metadata": {},
   "outputs": [
    {
     "name": "stdout",
     "output_type": "stream",
     "text": [
      "Hello Karl, thank you for logging in again\n",
      "Hello admin, would you like to see a status report?\n",
      "Hello AdMiN, would you like to see a status report?\n"
     ]
    }
   ],
   "source": [
    "usernames = [\"John\", \"Synthia\", \"Fiona\", \"Karl\", \"Greg\"]\n",
    "\n",
    "def greeting(name):\n",
    "    if name in usernames:\n",
    "        print(f\"Hello {name}, thank you for logging in again\")\n",
    "    elif name.lower() == 'admin':\n",
    "        print(f\"Hello {name}, would you like to see a status report?\")\n",
    "\n",
    "greeting(\"Karl\")\n",
    "greeting(\"admin\")\n",
    "greeting(\"AdMiN\")"
   ]
  },
  {
   "cell_type": "markdown",
   "id": "606b67df-8643-4aef-89a7-352c437020dd",
   "metadata": {},
   "source": [
    "#### __5-9. No Users:__ Add an if test to hello_admin.py to make sure the list of users is not empty.\n",
    "•If the list is empty, print the message We need to find some users!   \n",
    "•Remove all of the usernames from your list, and make sure the correct mes-\n",
    "sage is printed.     "
   ]
  },
  {
   "cell_type": "code",
   "execution_count": 90,
   "id": "d215b750-396c-4817-a677-cf26000a9765",
   "metadata": {},
   "outputs": [
    {
     "name": "stdout",
     "output_type": "stream",
     "text": [
      "We need to find some users!\n",
      "We need to find some users!\n",
      "We need to find some users!\n"
     ]
    }
   ],
   "source": [
    "usernames = []\n",
    "\n",
    "def greeting(name):\n",
    "    if usernames:\n",
    "        if name in usernames:\n",
    "            print(f\"Hello {name}, thank you for logging in again\")\n",
    "        elif name.lower() == 'admin':\n",
    "            print(f\"Hello {name}, would you like to see a status report?\")\n",
    "    else:\n",
    "        print(\"We need to find some users!\")\n",
    "\n",
    "greeting(\"Karl\")\n",
    "greeting(\"admin\")\n",
    "greeting(\"AdMiN\")"
   ]
  },
  {
   "cell_type": "markdown",
   "id": "df4891a3-6676-4193-89cc-3fb88ba329de",
   "metadata": {},
   "source": [
    "#### __5-10. Checking Usernames:__ Do the following to create a program that simulates how websites ensure that everyone has a unique username.\n",
    "•Make a list of five or more usernames called current_users.   \n",
    "•Make another list of five usernames called new_users. Make sure one or\n",
    "two of the new usernames are also in the current_users list.    \n",
    "•Loop through the new_users list to see if each new username has already\n",
    "been used. If it has, print a message that the person will need to enter a\n",
    "new username. If a username has not been used, print a message saying\n",
    "that the username is available.    \n",
    "•Make sure your comparison is case insensitive. If 'John' has been used,\n",
    "'JOHN' should not be accepted. (To do this, you’ll need to make a copy of\n",
    "current_users containing the lowercase versions of all existing users.)    "
   ]
  },
  {
   "cell_type": "code",
   "execution_count": 109,
   "id": "5a6823d2-e2f0-42bc-be74-4192b88e66f0",
   "metadata": {},
   "outputs": [
    {
     "name": "stdout",
     "output_type": "stream",
     "text": [
      "The Jessica is available.\n",
      "The John already has been used, please enter a new username.\n",
      "The David is available.\n",
      "The Harry is available.\n",
      "The Greg already has been used, please enter a new username.\n",
      "The John already has been used, please enter a new username.\n"
     ]
    }
   ],
   "source": [
    "current_users = [\"John\", \"Synthia\", \"Fiona\", \"Karl\", \"Greg\"]\n",
    "current_users = [name.title() for name in current_users]\n",
    "\n",
    "new_users = ['Jessica', 'John', 'David', 'Harry', 'Greg', 'JOHN']\n",
    "new_users = [name.title() for name in new_users]\n",
    "\n",
    "for name in new_users:\n",
    "    if name in current_users:\n",
    "        print(f\"The {name} already has been used, please enter a new username.\")\n",
    "    else:\n",
    "        print(f\"The {name} is available.\")"
   ]
  },
  {
   "cell_type": "markdown",
   "id": "29efde80-977c-4a29-ad44-9f5f98ee9df1",
   "metadata": {},
   "source": [
    "#### __5-11. Ordinal Numbers:__ Ordinal numbers indicate their position in a list, such as 1st or 2nd. Most ordinal numbers end in th, except 1, 2, and 3.\n",
    "•Store the numbers 1 through 9 in a list.  \n",
    "•Loop through the list.  \n",
    "•Use an if- elif- else chain inside the loop to print the proper ordinal ending\n",
    "for each number. Your output should read \"1st 2nd 3rd 4th 5th 6th 7th\n",
    "8th 9th\", and each result should be on a separate line. "
   ]
  },
  {
   "cell_type": "code",
   "execution_count": 119,
   "id": "1717c1a3-6421-452b-9200-b87e9448f3b4",
   "metadata": {},
   "outputs": [
    {
     "name": "stdout",
     "output_type": "stream",
     "text": [
      "1st\n",
      "2st\n",
      "3st\n",
      "4th\n",
      "5th\n",
      "6th\n",
      "7th\n",
      "8th\n",
      "9th\n"
     ]
    }
   ],
   "source": [
    "numbers = []\n",
    "for i in range(1, 10):\n",
    "    numbers.append(i)\n",
    "\n",
    "for i in numbers:\n",
    "    if i < 4:\n",
    "        print(f\"{i}st\")\n",
    "    elif i >= 4:\n",
    "        print(f\"{i}th\")"
   ]
  },
  {
   "cell_type": "markdown",
   "id": "a0810da3-58ae-46d3-88d3-42fa90628ffa",
   "metadata": {},
   "source": [
    "#### __5-12. Styling if Statements:__ Review the programs you wrote in this chapter, and make sure you styled your conditional tests appropriately."
   ]
  },
  {
   "cell_type": "code",
   "execution_count": 120,
   "id": "3b6e9178-ede0-4b7c-9e8d-3b39c23660e8",
   "metadata": {},
   "outputs": [
    {
     "name": "stdout",
     "output_type": "stream",
     "text": [
      "DONE\n"
     ]
    }
   ],
   "source": [
    "print(\"DONE\")"
   ]
  },
  {
   "cell_type": "markdown",
   "id": "65816ff1-5add-485f-a0c0-73e48473857b",
   "metadata": {},
   "source": [
    "#### __5-13. Your Ideas:__ At this point, you’re a more capable programmer than you were when you started this book. Now that you have a better sense of how real-world situations are modeled in programs, you might be thinking of some problems you could solve with your own programs. Record any new ideas you have about problems you might want to solve as your programming skills continue to improve. Consider games you might want to write, datasets you might want to explore, and web applications you’d like to create."
   ]
  },
  {
   "cell_type": "code",
   "execution_count": 121,
   "id": "a291f5ed-9b08-4307-a95e-d3f601ef0499",
   "metadata": {
    "scrolled": true
   },
   "outputs": [
    {
     "name": "stdout",
     "output_type": "stream",
     "text": [
      "So I want to use symbolic regression to testify some of equation from nuclear physics and experimental data providing with useful insights\n"
     ]
    }
   ],
   "source": [
    "print(\"So I want to use symbolic regression to testify some of equation from nuclear physics and experimental data providing with useful insights\")"
   ]
  }
 ],
 "metadata": {
  "kernelspec": {
   "display_name": "Python 3 (ipykernel)",
   "language": "python",
   "name": "python3"
  },
  "language_info": {
   "codemirror_mode": {
    "name": "ipython",
    "version": 3
   },
   "file_extension": ".py",
   "mimetype": "text/x-python",
   "name": "python",
   "nbconvert_exporter": "python",
   "pygments_lexer": "ipython3",
   "version": "3.11.5"
  }
 },
 "nbformat": 4,
 "nbformat_minor": 5
}
