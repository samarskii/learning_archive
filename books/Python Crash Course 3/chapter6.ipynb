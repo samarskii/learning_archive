{
 "cells": [
  {
   "cell_type": "markdown",
   "id": "38d84fd0-9709-4ca0-a7ab-0c0a37537830",
   "metadata": {
    "editable": true,
    "slideshow": {
     "slide_type": ""
    },
    "tags": []
   },
   "source": [
    "# 6. DICTIONARIES\n",
    "### __Author:__ Samarskii\n",
    "### __Date:__ 12/03/2024 - 08/05/2024"
   ]
  },
  {
   "cell_type": "markdown",
   "id": "c648ff59-d280-4349-a006-bf56312e5d29",
   "metadata": {},
   "source": [
    "## Theory"
   ]
  },
  {
   "cell_type": "code",
   "execution_count": 1,
   "id": "6f3e1104-24d2-4221-947f-da514eb21852",
   "metadata": {
    "scrolled": true
   },
   "outputs": [
    {
     "name": "stdout",
     "output_type": "stream",
     "text": [
      "{'color': 'green', 'points': 5}\n",
      "{'color': 'green', 'points': 5, 'x_position': 0, 'y_position': 25}\n"
     ]
    }
   ],
   "source": [
    "# alien.py\n",
    "alien_0 = {'color': 'green', 'points': 5}\n",
    "\n",
    "# print(alien_0['color'])\n",
    "# print(alien_0['points'])\n",
    "\n",
    "# new_points = alien_0['points']\n",
    "# print(f\"You just earned {new_points} points!\")\n",
    "\n",
    "print(alien_0)\n",
    "\n",
    "alien_0['x_position'] = 0\n",
    "alien_0['y_position'] = 25\n",
    "print(alien_0)"
   ]
  },
  {
   "cell_type": "code",
   "execution_count": 2,
   "id": "0bf75b3a-6583-47a8-a932-13e60d2ad5d9",
   "metadata": {},
   "outputs": [
    {
     "name": "stdout",
     "output_type": "stream",
     "text": [
      "{'color': 'green', 'points': 5}\n",
      "The alien is green.\n",
      "The alien is now yellow.\n"
     ]
    }
   ],
   "source": [
    "# alien.py\n",
    "alien_0 = {}\n",
    "\n",
    "alien_0['color'] = 'green'\n",
    "alien_0['points'] = 5\n",
    "\n",
    "print(alien_0)\n",
    "\n",
    "print(f\"The alien is {alien_0['color']}.\")\n",
    "\n",
    "alien_0['color'] = 'yellow'\n",
    "print(f\"The alien is now {alien_0['color']}.\")"
   ]
  },
  {
   "cell_type": "code",
   "execution_count": 3,
   "id": "9eaa58bd-fa50-42f6-9274-09efb88d06a8",
   "metadata": {},
   "outputs": [
    {
     "name": "stdout",
     "output_type": "stream",
     "text": [
      "Original position: 0\n",
      "New postition: 2\n",
      "{'x_position': 2, 'y_position': 25, 'speed': 'medium', 'color': 'green', 'points': 5}\n",
      "{'x_position': 2, 'y_position': 25, 'speed': 'medium', 'color': 'green'}\n"
     ]
    }
   ],
   "source": [
    "# alien.py\n",
    "alien_0 = {'x_position': 0, 'y_position': 25, 'speed': 'medium'}\n",
    "print(f\"Original position: {alien_0['x_position']}\")\n",
    "\n",
    "# move the alien to the right.\n",
    "# determine how far to move the alien based on its current speed.\n",
    "if alien_0['speed'] == 'slow':\n",
    "    x_increment = 1\n",
    "elif alien_0['speed'] == 'medium':\n",
    "    x_increment = 2\n",
    "else:\n",
    "    x_increment = 3\n",
    "\n",
    "# The new position is the old postiton plus the increment\n",
    "alien_0['x_position'] = alien_0['x_position'] + x_increment\n",
    "\n",
    "print(f\"New postition: {alien_0['x_position']}\")\n",
    "\n",
    "alien_0['color'] = 'green'\n",
    "alien_0['points'] = 5\n",
    "\n",
    "print(alien_0)\n",
    "del alien_0['points']\n",
    "print(alien_0)"
   ]
  },
  {
   "cell_type": "code",
   "execution_count": 4,
   "id": "bf8409c0-4ff3-444c-846f-a93d97e349dc",
   "metadata": {},
   "outputs": [
    {
     "name": "stdout",
     "output_type": "stream",
     "text": [
      "Sarah's favorite language is C\n",
      "Sarah's favorite language is C\n"
     ]
    }
   ],
   "source": [
    "# favorite_languages.py\n",
    "favorite_languages = {\n",
    "    'jen': 'python',\n",
    "    'sarah': 'c',\n",
    "    'edward': 'rust',\n",
    "    'phil': 'python',\n",
    "}\n",
    "\n",
    "language = favorite_languages['sarah'].title()\n",
    "print(f\"Sarah's favorite language is {favorite_languages['sarah'].title()}\")\n",
    "print(f\"Sarah's favorite language is {language}\")"
   ]
  },
  {
   "cell_type": "code",
   "execution_count": 5,
   "id": "3c5adcbd-a8a0-41fe-9e2e-33f842af59f1",
   "metadata": {},
   "outputs": [
    {
     "name": "stdout",
     "output_type": "stream",
     "text": [
      "No points value assigned.\n"
     ]
    }
   ],
   "source": [
    "# alien_no_points.py\n",
    "alien_0 = {\n",
    "    'color': 'green',\n",
    "    'speed': 'slow',\n",
    "}\n",
    "point_value = alien_0.get('points', 'No points value assigned.')\n",
    "# print(alien_0['points'])\n",
    "print(point_value)"
   ]
  },
  {
   "cell_type": "code",
   "execution_count": 6,
   "id": "6abb4aa4-2cb2-40d8-856c-746681f809a2",
   "metadata": {},
   "outputs": [
    {
     "name": "stdout",
     "output_type": "stream",
     "text": [
      "\n",
      "Key: username\n",
      "Value: efermi\n",
      "\n",
      "Key: first\n",
      "Value: enrico\n",
      "\n",
      "Key: last\n",
      "Value: fermi\n"
     ]
    }
   ],
   "source": [
    "# user.py\n",
    "user_0 = {\n",
    "    'username': 'efermi',\n",
    "    'first': 'enrico',\n",
    "    'last': 'fermi',\n",
    "}\n",
    "\n",
    "for key, value in user_0.items():\n",
    "    print(f\"\\nKey: {key}\") \n",
    "    print(f\"Value: {value}\")"
   ]
  },
  {
   "cell_type": "code",
   "execution_count": 7,
   "id": "65af7348-307d-4494-87e8-7cd10433230c",
   "metadata": {},
   "outputs": [
    {
     "name": "stdout",
     "output_type": "stream",
     "text": [
      "Jen's favorite language is Python\n",
      "Sarah's favorite language is C\n",
      "Edward's favorite language is Rust\n",
      "Phil's favorite language is Python\n"
     ]
    }
   ],
   "source": [
    "# favorite_languages.py\n",
    "favorite_languages = {\n",
    "    'jen': 'python',\n",
    "    'sarah': 'c',\n",
    "    'edward': 'rust',\n",
    "    'phil': 'python',\n",
    "}\n",
    "\n",
    "for name, language in favorite_languages.items():\n",
    "    print(f\"{name.title()}'s favorite language is {language.title()}\")"
   ]
  },
  {
   "cell_type": "code",
   "execution_count": 8,
   "id": "03ab580c-e719-468c-9e28-f9b7c6ad674f",
   "metadata": {},
   "outputs": [
    {
     "name": "stdout",
     "output_type": "stream",
     "text": [
      "Jen\n",
      "Sarah\n",
      "Edward\n",
      "Phil\n",
      "Erin, please take our poll!\n"
     ]
    }
   ],
   "source": [
    "# favorite_languages.py\n",
    "favorite_languages = {\n",
    "    'jen': 'python',\n",
    "    'sarah': 'c',\n",
    "    'edward': 'rust',\n",
    "    'phil': 'python',\n",
    "}\n",
    "\n",
    "for name in favorite_languages.keys():\n",
    "    print(name.title())\n",
    "\n",
    "# for name in favorite_languages:\n",
    "#     print(name.title())\n",
    "\n",
    "# friends = ['phil', 'sarah']\n",
    "# for name in favorite_languages.keys():\n",
    "#     print(f\"Hi {name.title()}.\")\n",
    "\n",
    "#     if name in friends:\n",
    "#         language = favorite_languages[name].title()\n",
    "#         print(f\"\\t{name.title()}, I see you love {language}!\")\n",
    "\n",
    "if 'erin' not in favorite_languages.keys():\n",
    "    print(\"Erin, please take our poll!\")"
   ]
  },
  {
   "cell_type": "code",
   "execution_count": 9,
   "id": "b751db7e-e85e-41b0-926e-4e2ce7c97350",
   "metadata": {},
   "outputs": [
    {
     "name": "stdout",
     "output_type": "stream",
     "text": [
      "The folowing languages have been mentioned:\n",
      "Python\n",
      "C\n",
      "Rust\n",
      "Python\n",
      "C\n",
      "Python\n",
      "Rust\n"
     ]
    }
   ],
   "source": [
    "# Looping Through a Dictionary’s Keys in a Particular Order\n",
    "\n",
    "favorite_languages = {\n",
    "    'jen': 'python',\n",
    "    'sarah': 'c',\n",
    "    'edward': 'rust',\n",
    "    'phil': 'python',\n",
    "}\n",
    "\n",
    "# for name in sorted(favorite_languages.keys()):\n",
    "#     print(f\"{name.title()}, thank you for raking the poll.\")\n",
    "\n",
    "# Looping Through All Values in a Dictionary\n",
    "print(\"The folowing languages have been mentioned:\")\n",
    "\n",
    "for language in favorite_languages.values():\n",
    "    print(language.title())\n",
    "\n",
    "for language in set(favorite_languages.values()):\n",
    "    print(language.title())"
   ]
  },
  {
   "cell_type": "code",
   "execution_count": 10,
   "id": "fa4025e2-efe6-4355-a779-b27ec3cc235a",
   "metadata": {},
   "outputs": [
    {
     "name": "stdout",
     "output_type": "stream",
     "text": [
      "{'color': 'green', 'points': 5}\n",
      "{'color': 'yellow', 'points': 10}\n",
      "{'color': 'red', 'points': 15}\n"
     ]
    }
   ],
   "source": [
    "# alien.py\n",
    "alien_0 = {'color': 'green', 'points': 5,}\n",
    "alien_1 = {'color': 'yellow', 'points': 10,}\n",
    "alien_2 = {'color': 'red', 'points': 15,}\n",
    "\n",
    "aliens = [alien_0, alien_1, alien_2]\n",
    "\n",
    "for alien in aliens:\n",
    "    print(alien)"
   ]
  },
  {
   "cell_type": "code",
   "execution_count": 11,
   "id": "89c8a213-d2e5-487c-9249-eca418e39c24",
   "metadata": {},
   "outputs": [
    {
     "name": "stdout",
     "output_type": "stream",
     "text": [
      "{'color': 'yellow', 'points': 10, 'speed': 'medium'}\n",
      "{'color': 'yellow', 'points': 10, 'speed': 'medium'}\n",
      "{'color': 'yellow', 'points': 10, 'speed': 'medium'}\n",
      "{'color': 'green', 'points': 5, 'speed': 'slow'}\n",
      "{'color': 'green', 'points': 5, 'speed': 'slow'}\n",
      "Total number of aliens: 30\n"
     ]
    }
   ],
   "source": [
    "# alien.py\n",
    "aliens = []\n",
    "\n",
    "for alien_number in range(30):\n",
    "    new_alien = {'color': 'green', 'points': 5, 'speed': 'slow',}\n",
    "    aliens.append(new_alien)\n",
    "\n",
    "for alien in aliens[:3]:\n",
    "    if alien['color'] == 'green':\n",
    "        alien['color'] = 'yellow'\n",
    "        alien['speed'] = 'medium'\n",
    "        alien['points'] = 10\n",
    "    elif alien['color'] == 'yellow':\n",
    "        alien['color'] = 'red'\n",
    "        alien['speed'] = 'fast'\n",
    "        alien['points'] = 15\n",
    "\n",
    "for alien in aliens[:5]:\n",
    "    print(alien)\n",
    "\n",
    "print(f\"Total number of aliens: {len(aliens)}\")"
   ]
  },
  {
   "cell_type": "code",
   "execution_count": 12,
   "id": "38be17b3-c103-4506-834f-dc28057ddcff",
   "metadata": {},
   "outputs": [
    {
     "name": "stdout",
     "output_type": "stream",
     "text": [
      "You order a thick-crust pizza with the following toppings:\n",
      "\tmushrooms\n",
      "\textra cheese\n"
     ]
    }
   ],
   "source": [
    "# pizza.py\n",
    "# Store information about a pizza being ordered\n",
    "pizza = {\n",
    "    'crust': 'thick',\n",
    "    'toppings': ['mushrooms', 'extra cheese'],\n",
    "}\n",
    "\n",
    "# Summarize the order\n",
    "print(f\"You order a {pizza['crust']}-crust pizza with the following toppings:\")\n",
    "\n",
    "for topping in pizza['toppings']:\n",
    "    print(f\"\\t{topping}\")"
   ]
  },
  {
   "cell_type": "code",
   "execution_count": 13,
   "id": "135f4ff8-afc1-43a4-9d15-e7edd40e31f5",
   "metadata": {},
   "outputs": [
    {
     "name": "stdout",
     "output_type": "stream",
     "text": [
      "\n",
      "Jen's favorite languages are:\n",
      "\tPython\n",
      "\tRust\n",
      "\n",
      "Sarah's favorite languages are:\n",
      "\tC\n",
      "\n",
      "Edward's favorite languages are:\n",
      "\tRust\n",
      "\tGo\n",
      "\n",
      "Phil's favorite languages are:\n",
      "\tPython\n",
      "\tHaskell\n"
     ]
    }
   ],
   "source": [
    "# favorite_languages.py\n",
    "favorite_languages = {\n",
    "    'jen': ['python', 'rust'],\n",
    "    'sarah': ['c'],\n",
    "    'edward': ['rust', 'go'],\n",
    "    'phil': ['python', 'haskell'],\n",
    "}\n",
    "\n",
    "for name, languages in favorite_languages.items():\n",
    "    print(f\"\\n{name.title()}'s favorite languages are:\")\n",
    "    for language in languages:\n",
    "        print(f\"\\t{language.title()}\")"
   ]
  },
  {
   "cell_type": "code",
   "execution_count": 14,
   "id": "0d558aba-c21e-4261-862f-763c8962cfa2",
   "metadata": {},
   "outputs": [
    {
     "name": "stdout",
     "output_type": "stream",
     "text": [
      "\n",
      "Username: aeinstein\n",
      "\tFull name: Albert Einstein\n",
      "\tLocation: Princeton\n",
      "\n",
      "Username: mcurie\n",
      "\tFull name: Marie Curie\n",
      "\tLocation: Paris\n"
     ]
    }
   ],
   "source": [
    "# many_users.py\n",
    "users = {\n",
    "    'aeinstein': {\n",
    "        'first': 'albert',\n",
    "        'last': 'einstein',\n",
    "        'location': 'princeton',\n",
    "    },\n",
    "    'mcurie': {\n",
    "        'first': 'marie',\n",
    "        'last': 'curie',\n",
    "        'location': 'paris',\n",
    "    },\n",
    "}\n",
    "\n",
    "for username, user_info in users.items():\n",
    "    print(f\"\\nUsername: {username}\")\n",
    "    full_name = f\"{user_info['first']} {user_info['last']}\"\n",
    "    location = user_info['location']\n",
    "\n",
    "    print(f\"\\tFull name: {full_name.title()}\")\n",
    "    print(f\"\\tLocation: {location.title()}\")"
   ]
  },
  {
   "cell_type": "markdown",
   "id": "6400fdc6-7d37-4adf-8c10-1156b160379f",
   "metadata": {},
   "source": [
    "## Exercises"
   ]
  },
  {
   "cell_type": "markdown",
   "id": "e0b8d715-790a-4d38-b012-0e1b07e1cab7",
   "metadata": {},
   "source": [
    "## __6-1. Person:__ Use a dictionary to store information about a person you know. Store their first name, last name, age, and the city in which they live. You should have keys such as first_name, last_name, age, and city. Print each piece of information stored in your dictionary."
   ]
  },
  {
   "cell_type": "code",
   "execution_count": 15,
   "id": "895f2069-5ae3-49da-a2f7-a24ed53c6ccb",
   "metadata": {},
   "outputs": [
    {
     "name": "stdout",
     "output_type": "stream",
     "text": [
      "{'first_name': 'Michael', 'last_name': 'Lee', 'age': 28, 'city': 'New York City'}\n",
      "Michael\n",
      "Lee\n",
      "28\n",
      "New York City\n"
     ]
    }
   ],
   "source": [
    "personal_info = {\n",
    "    'first_name': 'Michael',\n",
    "    'last_name': 'Lee',\n",
    "    'age': 28,\n",
    "    'city': 'New York City',\n",
    "}\n",
    "\n",
    "print(personal_info)\n",
    "print(personal_info['first_name'])\n",
    "print(personal_info['last_name'])\n",
    "print(personal_info['age'])\n",
    "print(personal_info['city'])"
   ]
  },
  {
   "cell_type": "markdown",
   "id": "ee753fbd-cb86-4dad-a2f4-e3d192de3255",
   "metadata": {},
   "source": [
    "## __6-2. Favorite Numbers:__ Use a dictionary to store people’s favorite numbers. Think of five names, and use them as keys in your dictionary. Think of a favorite number for each person, and store each as a value in your dictionary. Print each person’s name and their favorite number. For even more fun, poll a few friends and get some actual data for your program."
   ]
  },
  {
   "cell_type": "code",
   "execution_count": 16,
   "id": "95a3f8db-8c99-43a9-b28e-8632616febb9",
   "metadata": {},
   "outputs": [
    {
     "name": "stdout",
     "output_type": "stream",
     "text": [
      "Samantha favorite number is: 34\n",
      "Michael favorite number is: 28\n",
      "Emily favorite number is: 41\n",
      "Daniel favorite number is: 22\n",
      "Jessica favorite number is: 37\n"
     ]
    }
   ],
   "source": [
    "fav_numbers = {\n",
    "    'Samantha': 34,\n",
    "    'Michael': 28,\n",
    "    'Emily': 41,\n",
    "    'Daniel': 22,\n",
    "    'Jessica': 37,\n",
    "}\n",
    "print(f\"Samantha favorite number is: {fav_numbers['Samantha']}\")\n",
    "print(f\"Michael favorite number is: {fav_numbers['Michael']}\")\n",
    "print(f\"Emily favorite number is: {fav_numbers['Emily']}\")\n",
    "print(f\"Daniel favorite number is: {fav_numbers['Daniel']}\")\n",
    "print(f\"Jessica favorite number is: {fav_numbers['Jessica']}\")"
   ]
  },
  {
   "cell_type": "markdown",
   "id": "533752df-d319-47d7-bcdd-e0caee9a91a0",
   "metadata": {},
   "source": [
    "## __6-3. Glossary:__ A Python dictionary can be used to model an actual dictionary. However, to avoid confusion, let’s call it a glossary.\n",
    "•Think of five programming words you’ve learned about in the previous chapters. Use these words as the keys in your glossary, and store their meanings as values.    \n",
    "•Print each word and its meaning as neatly formatted output. You might print the word followed by a colon and then its meaning, or print the word on one line and then print its meaning indented on a second line. Use the newline character (\\n) to insert a blank line between each word-meaning pair in your output.   "
   ]
  },
  {
   "cell_type": "code",
   "execution_count": 17,
   "id": "a26b980b-1e4d-472b-ae3c-b9bd67d966b8",
   "metadata": {},
   "outputs": [
    {
     "name": "stdout",
     "output_type": "stream",
     "text": [
      "variable: A named storage location in memory that holds a value which can be modified during program execution..\n",
      "dictionary: An unordered collection of key-value pairs, where each key is unique and associated with a value..\n",
      "string: A sequence of characters enclosed in single quotes ('') or double quotes (\"\")..\n",
      "loop: A control structure that allows repeated execution of a block of code until a specific condition is met..\n",
      "condition: A logical expression that evaluates to either true or false, used to control the flow of execution in a program..\n"
     ]
    }
   ],
   "source": [
    "glossary = {\n",
    "    \"variable\": \"A named storage location in memory that holds a value which can be modified during program execution.\",\n",
    "    \"dictionary\": \"An unordered collection of key-value pairs, where each key is unique and associated with a value.\",\n",
    "    \"string\": \"A sequence of characters enclosed in single quotes ('') or double quotes (\\\"\\\").\",\n",
    "    \"loop\": \"A control structure that allows repeated execution of a block of code until a specific condition is met.\",\n",
    "    \"condition\": \"A logical expression that evaluates to either true or false, used to control the flow of execution in a program.\"\n",
    "}\n",
    "for word in glossary:\n",
    "    print(f\"{word}: {glossary[word]}.\")"
   ]
  },
  {
   "cell_type": "markdown",
   "id": "786bb496-7e47-4a72-8a1d-3187f4bdf912",
   "metadata": {},
   "source": [
    "## __6-4. Glossary 2:__\n",
    "Now that you know how to loop through a dictionary, clean\n",
    "up the code from Exercise 6-3 (page 99) by replacing your series of print()\n",
    "calls with a loop that runs through the dictionary’s keys and values. When\n",
    "you’re sure that your loop works, add five more Python terms to your glossary.\n",
    "When you run your program again, these new words and meanings should\n",
    "automatically be included in the output."
   ]
  },
  {
   "cell_type": "code",
   "execution_count": 18,
   "id": "2839cb4c-70aa-4244-b268-ac5c3304ffc9",
   "metadata": {},
   "outputs": [
    {
     "name": "stdout",
     "output_type": "stream",
     "text": [
      "variable: A named storage location in memory that holds a value which can be modified during program execution.\n",
      "dictionary: An unordered collection of key-value pairs, where each key is unique and associated with a value.\n",
      "string: A sequence of characters enclosed in single quotes ('') or double quotes (\"\").\n",
      "loop: A control structure that allows repeated execution of a block of code until a specific condition is met.\n",
      "condition: A logical expression that evaluates to either true or false, used to control the flow of execution in a program.\n",
      "function: A reusable block of code that performs a specific task and can optionally take input parameters and return a value.\n",
      "list: An ordered collection of items, which can be of different data types, enclosed in square brackets [].\n",
      "module: A file containing Python code that defines functions, classes, and variables, which can be imported and used in other Python programs.\n",
      "tuple: An ordered and immutable collection of items, which can be of different data types, enclosed in parentheses ().\n",
      "class: A blueprint or template for creating objects, defining their properties (attributes) and behaviors (methods).\n"
     ]
    }
   ],
   "source": [
    "glossary = {\n",
    "\"variable\": \"A named storage location in memory that holds a value which can be modified during program execution.\",\n",
    "\"dictionary\": \"An unordered collection of key-value pairs, where each key is unique and associated with a value.\",\n",
    "\"string\": \"A sequence of characters enclosed in single quotes ('') or double quotes (\\\"\\\").\",\n",
    "\"loop\": \"A control structure that allows repeated execution of a block of code until a specific condition is met.\",\n",
    "\"condition\": \"A logical expression that evaluates to either true or false, used to control the flow of execution in a program.\",\n",
    "\"function\": \"A reusable block of code that performs a specific task and can optionally take input parameters and return a value.\",\n",
    "\"list\": \"An ordered collection of items, which can be of different data types, enclosed in square brackets [].\",\n",
    "\"module\": \"A file containing Python code that defines functions, classes, and variables, which can be imported and used in other Python programs.\",\n",
    "\"tuple\": \"An ordered and immutable collection of items, which can be of different data types, enclosed in parentheses ().\",\n",
    "\"class\": \"A blueprint or template for creating objects, defining their properties (attributes) and behaviors (methods).\"\n",
    "}\n",
    "\n",
    "for key, value in glossary.items():\n",
    "    print(f\"{key}: {value}\")"
   ]
  },
  {
   "cell_type": "markdown",
   "id": "dfc40ec6-ac61-4db4-8fe6-19de66c21f98",
   "metadata": {},
   "source": [
    "## __6-5. Rivers:__ Make a dictionary containing three major rivers and the country each river runs through. One key-value pair might be 'nile': 'egypt'.\n",
    "•Use a loop to print a sentence about each river, such as The Nile runs through Egypt.  \n",
    "•Use a loop to print the name of each river included in the dictionary.   \n",
    "•Use a loop to print the name of each country included in the dictionary.   "
   ]
  },
  {
   "cell_type": "code",
   "execution_count": 19,
   "id": "bb4617e1-ce10-4a52-be5b-c1907cdf0441",
   "metadata": {},
   "outputs": [
    {
     "name": "stdout",
     "output_type": "stream",
     "text": [
      "The Nile runs trough Egypt\n",
      "The Amazon runs trough Brazil\n",
      "The Yangtze runs trough China\n",
      "nile\n",
      "amazon\n",
      "yangtze\n",
      "egypt\n",
      "brazil\n",
      "china\n"
     ]
    }
   ],
   "source": [
    "rivers = {\n",
    "'nile': 'egypt',\n",
    "'amazon': 'brazil',\n",
    "'yangtze': 'china'\n",
    "}\n",
    "\n",
    "for key, value in rivers.items():\n",
    "    print(f\"The {key.title()} runs trough {value.title()}\")\n",
    "\n",
    "for name in rivers.keys():\n",
    "    print(name)\n",
    "\n",
    "for name in rivers.values():\n",
    "    print(name)"
   ]
  },
  {
   "cell_type": "markdown",
   "id": "5e2046cb-a3b0-4e7c-9dbe-842e5de14818",
   "metadata": {},
   "source": [
    "## __6-6. Polling::__ Use the code in favorite_languages.py (page 96).\n",
    "•Make a list of people who should take the favorite languages poll. Include some names that are already in the dictionary and some that are not.   \n",
    "•Loop through the list of people who should take the poll. If they have already taken the poll, print a message thanking them for responding. If they have not yet taken the poll, print a message inviting them to take the poll.  "
   ]
  },
  {
   "cell_type": "code",
   "execution_count": 20,
   "id": "76b7163b-e75f-4844-ba30-21c1961a2e98",
   "metadata": {},
   "outputs": [
    {
     "name": "stdout",
     "output_type": "stream",
     "text": [
      "Hello! Alexander! We invite you to take the poll!\n",
      "Hello! Victoria! We invite you to take the poll!\n",
      "Hello! James! We invite you to take the poll!\n",
      "Hello! Madison! We invite you to take the poll!\n",
      "Hello! Owen! We invite you to take the poll!\n",
      "Hello! Nora! We invite you to take the poll!\n",
      "Hello! Liam! We invite you to take the poll!\n",
      "Hello! Riley! We invite you to take the poll!\n",
      "Hello! Mason! We invite you to take the poll!\n",
      "Hello! Hannah! We invite you to take the poll!\n",
      "Hello! Logan! We invite you to take the poll!\n",
      "Hello! Layla! We invite you to take the poll!\n",
      "Hello! Caleb! We invite you to take the poll!\n",
      "Hello! Brooklyn! We invite you to take the poll!\n",
      "Hello! Connor! We invite you to take the poll!\n",
      "Jen! Thank you for taking the poll\n",
      "Hello! Aiden! We invite you to take the poll!\n",
      "Hello! Lucy! We invite you to take the poll!\n",
      "Hello! Gabriel! We invite you to take the poll!\n",
      "Hello! Kennedy! We invite you to take the poll!\n",
      "Hello! Jack! We invite you to take the poll!\n",
      "Hello! Ellie! We invite you to take the poll!\n",
      "Hello! Nathan! We invite you to take the poll!\n",
      "Hello! Audrey! We invite you to take the poll!\n",
      "Hello! Luke! We invite you to take the poll!\n",
      "Hello! Zara! We invite you to take the poll!\n",
      "Hello! Christian! We invite you to take the poll!\n",
      "Hello! Stella! We invite you to take the poll!\n",
      "Hello! Isaac! We invite you to take the poll!\n",
      "Hello! Hazel! We invite you to take the poll!\n",
      "Hello! Samuel! We invite you to take the poll!\n",
      "Hello! Sadie! We invite you to take the poll!\n",
      "Hello! Jackson! We invite you to take the poll!\n",
      "Hello! Skyler! We invite you to take the poll!\n",
      "Hello! Jayden! We invite you to take the poll!\n",
      "Hello! Paisley! We invite you to take the poll!\n",
      "Hello! Grayson! We invite you to take the poll!\n",
      "Phil! Thank you for taking the poll\n",
      "Hello! Caden! We invite you to take the poll!\n",
      "Hello! Caroline! We invite you to take the poll!\n"
     ]
    }
   ],
   "source": [
    "favorite_languages = {\n",
    "    'jen': 'python',\n",
    "    'sarah': 'c',\n",
    "    'edward': 'rust',\n",
    "    'phil': 'python',\n",
    "}\n",
    "\n",
    "people = [ 'Alexander', 'Victoria', 'James', 'Madison', 'Owen', 'Nora', 'Liam', 'Riley', 'Mason', 'Hannah', 'Logan', 'Layla', 'Caleb', 'Brooklyn', 'Connor', 'Jen', 'Aiden', 'Lucy', 'Gabriel', 'Kennedy', 'Jack', 'Ellie', 'Nathan', 'Audrey', 'Luke', 'Zara', 'Christian', 'Stella', 'Isaac', 'Hazel', 'Samuel', 'Sadie', 'Jackson', 'Skyler', 'Jayden', 'Paisley', 'Grayson', 'Phil', 'Caden', 'Caroline']\n",
    "\n",
    "for names in people:\n",
    "    if names.lower() not in [key.lower() for key in favorite_languages.keys()]:\n",
    "        print(f\"Hello! {names}! We invite you to take the poll!\")\n",
    "    else:\n",
    "        print(f\"{names}! Thank you for taking the poll\")"
   ]
  },
  {
   "cell_type": "markdown",
   "id": "8c36f113-82b9-44fe-b9b9-1764473852cc",
   "metadata": {},
   "source": [
    "## __6-7. People:__ \n",
    "Start with the program you wrote for Exercise 6-1 (page 98). Make\n",
    "two new dictionaries representing different people, and store all three dictionaries in a list called people. Loop through your list of people. As you loop through the list, print everything you know about each person."
   ]
  },
  {
   "cell_type": "code",
   "execution_count": 21,
   "id": "94fd6381-8bdb-41ee-94fc-99219a037b9d",
   "metadata": {},
   "outputs": [
    {
     "name": "stdout",
     "output_type": "stream",
     "text": [
      "\tName: Michael Lee\n",
      "\tAge: 28\n",
      "\tCity: New York City\n",
      "\n",
      "\tName: Lucy Anioniter\n",
      "\tAge: 22\n",
      "\tCity: Berlin\n",
      "\n",
      "\tName: Gregory Freud\n",
      "\tAge: 33\n",
      "\tCity: Bristol\n",
      "\n"
     ]
    }
   ],
   "source": [
    "user_1 = {\n",
    "    'first_name': 'Michael',\n",
    "    'last_name': 'Lee',\n",
    "    'age': 28,\n",
    "    'city': 'New York City',\n",
    "}\n",
    "\n",
    "user_2 = {\n",
    "    'first_name': 'Lucy',\n",
    "    'last_name': 'Anioniter',\n",
    "    'age': 22,\n",
    "    'city': 'Berlin',\n",
    "}\n",
    "\n",
    "user_3 = {\n",
    "    'first_name': 'Gregory',\n",
    "    'last_name': 'Freud',\n",
    "    'age': 33,\n",
    "    'city': 'Bristol',\n",
    "}\n",
    "\n",
    "# Storing all three dictionaries\n",
    "list_of_users = [user_1, user_2, user_3]\n",
    "\n",
    "# Looping trough a list of users\n",
    "for users in list_of_users:\n",
    "    # Printing everythin we know about each person\n",
    "    print(f\"\\tName: {users['first_name'].title()} {users['last_name'].title()}\")\n",
    "    print(f\"\\tAge: {users['age']}\")\n",
    "    print(f\"\\tCity: {users['city'].title()}\")\n",
    "    print()"
   ]
  },
  {
   "cell_type": "markdown",
   "id": "d1924428-375c-4d3b-bc6f-2d99b52146b6",
   "metadata": {},
   "source": [
    "## __6-8. Pets:__ \n",
    "Make several dictionaries, where each dictionary represents a different pet. In each dictionary, include the kind of animal and the owner’s name. Store these dictionaries in a list called pets. Next, loop through your list and as you do, print everything you know about each pet."
   ]
  },
  {
   "cell_type": "code",
   "execution_count": 22,
   "id": "2c720c7a-73aa-44c3-98db-619c44dc3a76",
   "metadata": {},
   "outputs": [
    {
     "name": "stdout",
     "output_type": "stream",
     "text": [
      "\tThe Michael has a pet named Jackson\n",
      "\tJackson's type is Dog\n",
      "\tJackson is 3 years old\n",
      "\tJackson's favourite food is Chimken and favourite toy is ball\n",
      "\n",
      "\tThe Lucy has a pet named Ket\n",
      "\tKet's type is Cat\n",
      "\tKet is 6 years old\n",
      "\tKet's favourite food is Carrots and favourite toy is bell\n",
      "\n",
      "\tThe Gregory has a pet named Goldie\n",
      "\tGoldie's type is Cocroach\n",
      "\tGoldie is 1 years old\n",
      "\tGoldie's favourite food is Dust and favourite toy is snail shell\n",
      "\n"
     ]
    }
   ],
   "source": [
    "# Making three dictionaries with different pets for persons from exercise 6-7\n",
    "michael_pet = {\n",
    "    'owner': 'Michael',\n",
    "    'name': 'Jackson',\n",
    "    'type': 'dog',\n",
    "    'age': 3,\n",
    "    'fav_food': 'chimken',\n",
    "    'fav_toy': 'ball',\n",
    "}\n",
    "\n",
    "lucy_pet = {\n",
    "    'owner': 'Lucy',\n",
    "    'name': 'Ket',\n",
    "    'type': 'cat',\n",
    "    'age': 6,\n",
    "    'fav_food': 'carrots',\n",
    "    'fav_toy': 'bell',\n",
    "}\n",
    "\n",
    "gregory_pet = {\n",
    "    'owner': 'Gregory',\n",
    "    'name': 'Goldie',\n",
    "    'type': 'cocroach',\n",
    "    'age': 1,\n",
    "    'fav_food': 'dust',\n",
    "    'fav_toy': 'snail shell',\n",
    "}\n",
    "\n",
    "# Storing this dictionaries in a singele list\n",
    "pets = [michael_pet, lucy_pet, gregory_pet]\n",
    "\n",
    "# Looping trough a dictionari printing everything\n",
    "for pet in pets:\n",
    "    print(f\"\\tThe {pet['owner'].title()} has a pet named {pet['name'].title()}\")\n",
    "    print(f\"\\t{pet['name'].title()}'s type is {pet['type'].title()}\")\n",
    "    print(f\"\\t{pet['name'].title()} is {pet['age']} years old\")\n",
    "    print(f\"\\t{pet['name'].title()}'s favourite food is {pet['fav_food'].title()} and favourite toy is {pet['fav_toy']}\")\n",
    "    print()\n"
   ]
  },
  {
   "cell_type": "code",
   "execution_count": null,
   "id": "ae0ad5b9",
   "metadata": {},
   "outputs": [],
   "source": []
  },
  {
   "cell_type": "markdown",
   "id": "0182b900",
   "metadata": {},
   "source": [
    "## __6-10. Favorite Numbers:__ \n",
    "Modify your program from Exercise 6-2 (page 98) so each person can have more than one favorite number. Then print each person’s name along with their favorite numbers."
   ]
  },
  {
   "cell_type": "code",
   "execution_count": 25,
   "id": "a9af10e9-d492-47f0-87a8-1385c19c76aa",
   "metadata": {},
   "outputs": [
    {
     "name": "stdout",
     "output_type": "stream",
     "text": [
      "Samantha's favorites numbers are:\n",
      "\t34\n",
      "\t13\n",
      "\t1123\n",
      "\t5\n",
      "Michael's favorites numbers are:\n",
      "\t28\n",
      "\t37\n",
      "\t7\n",
      "\t73\n",
      "Emily's favorites numbers are:\n",
      "\t41\n",
      "\t113\n",
      "\t137\n",
      "\t98\n",
      "Daniel's favorites numbers are:\n",
      "\t22\n",
      "\t23\n",
      "\t24\n",
      "\t25\n",
      "\t26\n",
      "Jessica's favorites numbers are:\n",
      "\t37\n",
      "\t13\n",
      "\t7\n",
      "\t14\n",
      "\t4\n"
     ]
    }
   ],
   "source": [
    "fav_numbers = {\n",
    "    'Samantha': [34, 13, 1123, 5],\n",
    "    'Michael': [28, 37, 7, 73],\n",
    "    'Emily': [41, 113, 137, 98],\n",
    "    'Daniel': [22, 23, 24, 25, 26],\n",
    "    'Jessica': [37, 13, 7, 14, 4],\n",
    "}\n",
    "\n",
    "for key, value in fav_numbers.items():\n",
    "    print(f\"{key.title()}'s favorites numbers are:\")\n",
    "    for val in value:\n",
    "        print(f\"\\t{val}\")"
   ]
  },
  {
   "cell_type": "markdown",
   "id": "2af10bda",
   "metadata": {},
   "source": [
    "## __6-11. Cities:__\n",
    "Make a dictionary called cities. Use the names of three cities as keys in your dictionary. Create a dictionary of information about each city and include the country that the city is in, its approximate population, and one fact about that city. The keys for each city’s dictionary should be something like country, population, and fact. Print the name of each city and all of the information you have stored about it."
   ]
  },
  {
   "cell_type": "code",
   "execution_count": 32,
   "id": "9adbb0fb",
   "metadata": {},
   "outputs": [
    {
     "name": "stdout",
     "output_type": "stream",
     "text": [
      "The city Warszaw is in Poland\n",
      "And there is some interesting facts about it\n",
      "\tWarszaw population is 1861975 people\n",
      "\tAnd some interesting fact about it that: Miasto leży po obu stronach Wisły\n",
      "\n",
      "The city Lublin is in Poland\n",
      "And there is some interesting facts about it\n",
      "\tLublin population is 331243 people\n",
      "\tAnd some interesting fact about it that: Lublin leży w strefie Dfb – klimatu kontynentalnego wilgotnego\n",
      "\n",
      "The city Poznan is in Poland\n",
      "And there is some interesting facts about it\n",
      "\tPoznan population is 540146 people\n",
      "\tAnd some interesting fact about it that: Poznań covers an area of 261.3 km2\n",
      "\n"
     ]
    }
   ],
   "source": [
    "cities = {\n",
    "    'Warszaw': ['Poland'],\n",
    "    'Lublin': ['Poland'],\n",
    "    'Poznan': ['Poland'],\n",
    "}\n",
    "\n",
    "cities_info = {\n",
    "    'Warszaw': ['1861975', 'Miasto leży po obu stronach Wisły'],\n",
    "    'Lublin': ['331243', 'Lublin leży w strefie Dfb – klimatu kontynentalnego wilgotnego'],\n",
    "    'Poznan': ['540146', 'Poznań covers an area of 261.3 km2'],\n",
    "}\n",
    "\n",
    "for key, value in cities.items():\n",
    "    print(f\"The city {key} is in {value[0]}\")\n",
    "    print(f\"And there is some interesting facts about it\")\n",
    "    for key_info, value_info in cities_info.items():\n",
    "        if key_info == key:\n",
    "            print(f\"\\t{key} population is {value_info[0]} people\")\n",
    "            print(f\"\\tAnd some interesting fact about it that: {value_info[1]}\")\n",
    "    print()"
   ]
  },
  {
   "cell_type": "markdown",
   "id": "fa86db1e",
   "metadata": {},
   "source": [
    "## __6-12. Extensions::__\n",
    "We’re now working with examples that are complex enough that they can be extended in any number of ways. Use one of the example programs from this chapter, and extend it by adding new keys and values, changing the context of the program, or improving the formatting of the output."
   ]
  },
  {
   "cell_type": "code",
   "execution_count": 34,
   "id": "6413fef9",
   "metadata": {},
   "outputs": [
    {
     "name": "stdout",
     "output_type": "stream",
     "text": [
      "The Nile river runs through Egypt in Africa and is 6650 km long.\n",
      "The Amazon river runs through Brazil in South America and is 6300 km long.\n",
      "The Yangtze river runs through China in Asia and is 6300 km long.\n",
      "The Mississippi river runs through Usa in North America and is 3730 km long.\n",
      "The Danuble river runs through Germany in Europe and is 2860 km long.\n",
      "Nile\n",
      "Amazon\n",
      "Yangtze\n",
      "Mississippi\n",
      "Danuble\n",
      "Country: Egypt, Length: 6650 km, Continent: Africa\n",
      "Country: Brazil, Length: 6300 km, Continent: South America\n",
      "Country: China, Length: 6300 km, Continent: Asia\n",
      "Country: Usa, Length: 3730 km, Continent: North America\n",
      "Country: Germany, Length: 2860 km, Continent: Europe\n"
     ]
    }
   ],
   "source": [
    "rivers = {\n",
    "    'nile': {'country': 'egypt', 'length': 6650, 'continent': 'africa'},\n",
    "    'amazon': {'country': 'brazil', 'length': 6300, 'continent': 'south america'},\n",
    "    'yangtze': {'country': 'china', 'length': 6300, 'continent': 'asia'},\n",
    "    'mississippi': {'country': 'usa', 'length': 3730, 'continent': 'north america'},\n",
    "    'danuble': {'country': 'germany', 'length': 2860, 'continent': 'europe'}\n",
    "}\n",
    "\n",
    "for river, details in rivers.items():\n",
    "    print(f\"The {river.title()} river runs through {details['country'].title()} in {details['continent'].title()} and is {details['length']} km long.\")\n",
    "\n",
    "for river in rivers.keys():\n",
    "    print(river.title())\n",
    "\n",
    "for details in rivers.values():\n",
    "    print(f\"Country: {details['country'].title()}, Length: {details['length']} km, Continent: {details['continent'].title()}\")"
   ]
  },
  {
   "cell_type": "code",
   "execution_count": null,
   "id": "820a28ce",
   "metadata": {},
   "outputs": [],
   "source": []
  }
 ],
 "metadata": {
  "kernelspec": {
   "display_name": "Python 3 (ipykernel)",
   "language": "python",
   "name": "python3"
  },
  "language_info": {
   "codemirror_mode": {
    "name": "ipython",
    "version": 3
   },
   "file_extension": ".py",
   "mimetype": "text/x-python",
   "name": "python",
   "nbconvert_exporter": "python",
   "pygments_lexer": "ipython3",
   "version": "3.11.7"
  }
 },
 "nbformat": 4,
 "nbformat_minor": 5
}
