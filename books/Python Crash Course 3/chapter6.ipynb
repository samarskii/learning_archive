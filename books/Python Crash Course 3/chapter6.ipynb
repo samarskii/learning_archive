{
 "cells": [
  {
   "cell_type": "markdown",
   "id": "38d84fd0-9709-4ca0-a7ab-0c0a37537830",
   "metadata": {
    "editable": true,
    "slideshow": {
     "slide_type": ""
    },
    "tags": []
   },
   "source": [
    "# 6. DICTIONARIES\n",
    "### __Author:__ Samarskii\n",
    "### __Date:__ 12/03/2024"
   ]
  },
  {
   "cell_type": "markdown",
   "id": "c648ff59-d280-4349-a006-bf56312e5d29",
   "metadata": {},
   "source": [
    "## Theory"
   ]
  },
  {
   "cell_type": "code",
   "execution_count": 1,
   "id": "6f3e1104-24d2-4221-947f-da514eb21852",
   "metadata": {
    "scrolled": true
   },
   "outputs": [
    {
     "name": "stdout",
     "output_type": "stream",
     "text": [
      "{'color': 'green', 'points': 5}\n",
      "{'color': 'green', 'points': 5, 'x_position': 0, 'y_position': 25}\n"
     ]
    }
   ],
   "source": [
    "# alien.py\n",
    "alien_0 = {'color': 'green', 'points': 5}\n",
    "\n",
    "# print(alien_0['color'])\n",
    "# print(alien_0['points'])\n",
    "\n",
    "# new_points = alien_0['points']\n",
    "# print(f\"You just earned {new_points} points!\")\n",
    "\n",
    "print(alien_0)\n",
    "\n",
    "alien_0['x_position'] = 0\n",
    "alien_0['y_position'] = 25\n",
    "print(alien_0)"
   ]
  },
  {
   "cell_type": "code",
   "execution_count": 2,
   "id": "0bf75b3a-6583-47a8-a932-13e60d2ad5d9",
   "metadata": {},
   "outputs": [
    {
     "name": "stdout",
     "output_type": "stream",
     "text": [
      "{'color': 'green', 'points': 5}\n",
      "The alien is green.\n",
      "The alien is now yellow.\n"
     ]
    }
   ],
   "source": [
    "# alien.py\n",
    "alien_0 = {}\n",
    "\n",
    "alien_0['color'] = 'green'\n",
    "alien_0['points'] = 5\n",
    "\n",
    "print(alien_0)\n",
    "\n",
    "print(f\"The alien is {alien_0['color']}.\")\n",
    "\n",
    "alien_0['color'] = 'yellow'\n",
    "print(f\"The alien is now {alien_0['color']}.\")"
   ]
  },
  {
   "cell_type": "code",
   "execution_count": 3,
   "id": "9eaa58bd-fa50-42f6-9274-09efb88d06a8",
   "metadata": {},
   "outputs": [
    {
     "name": "stdout",
     "output_type": "stream",
     "text": [
      "Original position: 0\n",
      "New postition: 2\n",
      "{'x_position': 2, 'y_position': 25, 'speed': 'medium', 'color': 'green', 'points': 5}\n",
      "{'x_position': 2, 'y_position': 25, 'speed': 'medium', 'color': 'green'}\n"
     ]
    }
   ],
   "source": [
    "# alien.py\n",
    "alien_0 = {'x_position': 0, 'y_position': 25, 'speed': 'medium'}\n",
    "print(f\"Original position: {alien_0['x_position']}\")\n",
    "\n",
    "# move the alien to the right.\n",
    "# determine how far to move the alien based on its current speed.\n",
    "if alien_0['speed'] == 'slow':\n",
    "    x_increment = 1\n",
    "elif alien_0['speed'] == 'medium':\n",
    "    x_increment = 2\n",
    "else:\n",
    "    x_increment = 3\n",
    "\n",
    "# The new position is the old postiton plus the increment\n",
    "alien_0['x_position'] = alien_0['x_position'] + x_increment\n",
    "\n",
    "print(f\"New postition: {alien_0['x_position']}\")\n",
    "\n",
    "alien_0['color'] = 'green'\n",
    "alien_0['points'] = 5\n",
    "\n",
    "print(alien_0)\n",
    "del alien_0['points']\n",
    "print(alien_0)"
   ]
  },
  {
   "cell_type": "code",
   "execution_count": 4,
   "id": "bf8409c0-4ff3-444c-846f-a93d97e349dc",
   "metadata": {},
   "outputs": [
    {
     "name": "stdout",
     "output_type": "stream",
     "text": [
      "Sarah's favorite language is C\n",
      "Sarah's favorite language is C\n"
     ]
    }
   ],
   "source": [
    "# favorite_languages.py\n",
    "favorite_languages = {\n",
    "    'jen': 'python',\n",
    "    'sarah': 'c',\n",
    "    'edward': 'rust',\n",
    "    'phil': 'python',\n",
    "}\n",
    "\n",
    "language = favorite_languages['sarah'].title()\n",
    "print(f\"Sarah's favorite language is {favorite_languages['sarah'].title()}\")\n",
    "print(f\"Sarah's favorite language is {language}\")"
   ]
  },
  {
   "cell_type": "code",
   "execution_count": 5,
   "id": "3c5adcbd-a8a0-41fe-9e2e-33f842af59f1",
   "metadata": {},
   "outputs": [
    {
     "name": "stdout",
     "output_type": "stream",
     "text": [
      "No points value assigned.\n"
     ]
    }
   ],
   "source": [
    "# alien_no_points.py\n",
    "alien_0 = {\n",
    "    'color': 'green',\n",
    "    'speed': 'slow',\n",
    "}\n",
    "point_value = alien_0.get('points', 'No points value assigned.')\n",
    "# print(alien_0['points'])\n",
    "print(point_value)"
   ]
  },
  {
   "cell_type": "code",
   "execution_count": 6,
   "id": "6abb4aa4-2cb2-40d8-856c-746681f809a2",
   "metadata": {},
   "outputs": [
    {
     "name": "stdout",
     "output_type": "stream",
     "text": [
      "\n",
      "Key: username\n",
      "Value: efermi\n",
      "\n",
      "Key: first\n",
      "Value: enrico\n",
      "\n",
      "Key: last\n",
      "Value: fermi\n"
     ]
    }
   ],
   "source": [
    "# user.py\n",
    "user_0 = {\n",
    "    'username': 'efermi',\n",
    "    'first': 'enrico',\n",
    "    'last': 'fermi',\n",
    "}\n",
    "\n",
    "for key, value in user_0.items():\n",
    "    print(f\"\\nKey: {key}\") \n",
    "    print(f\"Value: {value}\")"
   ]
  },
  {
   "cell_type": "code",
   "execution_count": 7,
   "id": "65af7348-307d-4494-87e8-7cd10433230c",
   "metadata": {},
   "outputs": [
    {
     "name": "stdout",
     "output_type": "stream",
     "text": [
      "Jen's favorite language is Python\n",
      "Sarah's favorite language is C\n",
      "Edward's favorite language is Rust\n",
      "Phil's favorite language is Python\n"
     ]
    }
   ],
   "source": [
    "# favorite_languages.py\n",
    "favorite_languages = {\n",
    "    'jen': 'python',\n",
    "    'sarah': 'c',\n",
    "    'edward': 'rust',\n",
    "    'phil': 'python',\n",
    "}\n",
    "\n",
    "for name, language in favorite_languages.items():\n",
    "    print(f\"{name.title()}'s favorite language is {language.title()}\")"
   ]
  },
  {
   "cell_type": "code",
   "execution_count": 8,
   "id": "03ab580c-e719-468c-9e28-f9b7c6ad674f",
   "metadata": {},
   "outputs": [
    {
     "name": "stdout",
     "output_type": "stream",
     "text": [
      "Jen\n",
      "Sarah\n",
      "Edward\n",
      "Phil\n",
      "Erin, please take our poll!\n"
     ]
    }
   ],
   "source": [
    "# favorite_languages.py\n",
    "favorite_languages = {\n",
    "    'jen': 'python',\n",
    "    'sarah': 'c',\n",
    "    'edward': 'rust',\n",
    "    'phil': 'python',\n",
    "}\n",
    "\n",
    "for name in favorite_languages.keys():\n",
    "    print(name.title())\n",
    "\n",
    "# for name in favorite_languages:\n",
    "#     print(name.title())\n",
    "\n",
    "# friends = ['phil', 'sarah']\n",
    "# for name in favorite_languages.keys():\n",
    "#     print(f\"Hi {name.title()}.\")\n",
    "\n",
    "#     if name in friends:\n",
    "#         language = favorite_languages[name].title()\n",
    "#         print(f\"\\t{name.title()}, I see you love {language}!\")\n",
    "\n",
    "if 'erin' not in favorite_languages.keys():\n",
    "    print(\"Erin, please take our poll!\")"
   ]
  },
  {
   "cell_type": "code",
   "execution_count": null,
   "id": "b751db7e-e85e-41b0-926e-4e2ce7c97350",
   "metadata": {},
   "outputs": [],
   "source": []
  },
  {
   "cell_type": "markdown",
   "id": "6400fdc6-7d37-4adf-8c10-1156b160379f",
   "metadata": {},
   "source": [
    "## Exercises"
   ]
  },
  {
   "cell_type": "markdown",
   "id": "e0b8d715-790a-4d38-b012-0e1b07e1cab7",
   "metadata": {},
   "source": [
    "## __6-1. Person:__ Use a dictionary to store information about a person you know. Store their first name, last name, age, and the city in which they live. You should have keys such as first_name, last_name, age, and city. Print each piece of information stored in your dictionary."
   ]
  },
  {
   "cell_type": "code",
   "execution_count": 9,
   "id": "895f2069-5ae3-49da-a2f7-a24ed53c6ccb",
   "metadata": {},
   "outputs": [
    {
     "name": "stdout",
     "output_type": "stream",
     "text": [
      "{'first_name': 'Michael', 'last_name': 'Lee', 'age': 28, 'city': 'New York City'}\n",
      "Michael\n",
      "Lee\n",
      "28\n",
      "New York City\n"
     ]
    }
   ],
   "source": [
    "personal_info = {\n",
    "    'first_name': 'Michael',\n",
    "    'last_name': 'Lee',\n",
    "    'age': 28,\n",
    "    'city': 'New York City',\n",
    "}\n",
    "\n",
    "print(personal_info)\n",
    "print(personal_info['first_name'])\n",
    "print(personal_info['last_name'])\n",
    "print(personal_info['age'])\n",
    "print(personal_info['city'])"
   ]
  },
  {
   "cell_type": "markdown",
   "id": "ee753fbd-cb86-4dad-a2f4-e3d192de3255",
   "metadata": {},
   "source": [
    "## __6-2. Favorite Numbers:__ Use a dictionary to store people’s favorite numbers. Think of five names, and use them as keys in your dictionary. Think of a favorite number for each person, and store each as a value in your dictionary. Print each person’s name and their favorite number. For even more fun, poll a few friends and get some actual data for your program."
   ]
  },
  {
   "cell_type": "code",
   "execution_count": 10,
   "id": "95a3f8db-8c99-43a9-b28e-8632616febb9",
   "metadata": {},
   "outputs": [
    {
     "name": "stdout",
     "output_type": "stream",
     "text": [
      "Samantha favorite number is: 34\n",
      "Michael favorite number is: 28\n",
      "Emily favorite number is: 41\n",
      "Daniel favorite number is: 22\n",
      "Jessica favorite number is: 37\n"
     ]
    }
   ],
   "source": [
    "fav_numbers = {\n",
    "    'Samantha': 34,\n",
    "    'Michael': 28,\n",
    "    'Emily': 41,\n",
    "    'Daniel': 22,\n",
    "    'Jessica': 37,\n",
    "}\n",
    "print(f\"Samantha favorite number is: {fav_numbers['Samantha']}\")\n",
    "print(f\"Michael favorite number is: {fav_numbers['Michael']}\")\n",
    "print(f\"Emily favorite number is: {fav_numbers['Emily']}\")\n",
    "print(f\"Daniel favorite number is: {fav_numbers['Daniel']}\")\n",
    "print(f\"Jessica favorite number is: {fav_numbers['Jessica']}\")"
   ]
  },
  {
   "cell_type": "markdown",
   "id": "533752df-d319-47d7-bcdd-e0caee9a91a0",
   "metadata": {},
   "source": [
    "## __6-3. Glossary:__ A Python dictionary can be used to model an actual dictionary. However, to avoid confusion, let’s call it a glossary.\n",
    "•Think of five programming words you’ve learned about in the previous chapters. Use these words as the keys in your glossary, and store their meanings as values.    \n",
    "•Print each word and its meaning as neatly formatted output. You might print the word followed by a colon and then its meaning, or print the word on one line and then print its meaning indented on a second line. Use the newline character (\\n) to insert a blank line between each word-meaning pair in your output.   "
   ]
  },
  {
   "cell_type": "code",
   "execution_count": 11,
   "id": "939bb30c-d2ac-4730-ad73-16e21fd9b129",
   "metadata": {},
   "outputs": [
    {
     "name": "stdout",
     "output_type": "stream",
     "text": [
      "variable: A named storage location in memory that holds a value which can be modified during program execution..\n",
      "dictionary: An unordered collection of key-value pairs, where each key is unique and associated with a value..\n",
      "string: A sequence of characters enclosed in single quotes ('') or double quotes (\"\")..\n",
      "loop: A control structure that allows repeated execution of a block of code until a specific condition is met..\n",
      "condition: A logical expression that evaluates to either true or false, used to control the flow of execution in a program..\n"
     ]
    }
   ],
   "source": [
    "glossary = {\n",
    "    \"variable\": \"A named storage location in memory that holds a value which can be modified during program execution.\",\n",
    "    \"dictionary\": \"An unordered collection of key-value pairs, where each key is unique and associated with a value.\",\n",
    "    \"string\": \"A sequence of characters enclosed in single quotes ('') or double quotes (\\\"\\\").\",\n",
    "    \"loop\": \"A control structure that allows repeated execution of a block of code until a specific condition is met.\",\n",
    "    \"condition\": \"A logical expression that evaluates to either true or false, used to control the flow of execution in a program.\"\n",
    "}\n",
    "for word in glossary:\n",
    "    print(f\"{word}: {glossary[word]}.\")"
   ]
  }
 ],
 "metadata": {
  "kernelspec": {
   "display_name": "Python 3 (ipykernel)",
   "language": "python",
   "name": "python3"
  },
  "language_info": {
   "codemirror_mode": {
    "name": "ipython",
    "version": 3
   },
   "file_extension": ".py",
   "mimetype": "text/x-python",
   "name": "python",
   "nbconvert_exporter": "python",
   "pygments_lexer": "ipython3",
   "version": "3.11.7"
  }
 },
 "nbformat": 4,
 "nbformat_minor": 5
}
