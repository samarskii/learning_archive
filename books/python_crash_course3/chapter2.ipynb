{
 "cells": [
  {
   "cell_type": "markdown",
   "id": "87f0b119-ccaa-46c0-a5c5-0a336edb7883",
   "metadata": {},
   "source": [
    "# 2. VARIABLES AND SIMPLE DATA TYPES"
   ]
  },
  {
   "cell_type": "markdown",
   "id": "25359542-da09-48db-b352-498839aad1fd",
   "metadata": {},
   "source": [
    "## Exercises:"
   ]
  },
  {
   "cell_type": "markdown",
   "id": "d50137bd-8640-4e76-b299-7433817d4dcc",
   "metadata": {},
   "source": [
    "#### __2-1. Simple Message:__ Assign a message to a variable, and then print that message."
   ]
  },
  {
   "cell_type": "code",
   "execution_count": 1,
   "id": "3567b54c-7bca-4dd5-8f59-6007d528e7f0",
   "metadata": {},
   "outputs": [
    {
     "name": "stdout",
     "output_type": "stream",
     "text": [
      "Assigned message\n"
     ]
    }
   ],
   "source": [
    "variable = \"Assigned message\"\n",
    "print(variable)"
   ]
  },
  {
   "cell_type": "markdown",
   "id": "8882066b-a934-4ee0-830c-347266e24a9f",
   "metadata": {},
   "source": [
    "#### __2-2. Simple Messages:__ Assign a message to a variable, and print that message. Then change the value of the variable to a new message, and print the new message."
   ]
  },
  {
   "cell_type": "code",
   "execution_count": 2,
   "id": "aa171eb5-b999-42a6-87ea-efbbbd9f8abf",
   "metadata": {},
   "outputs": [
    {
     "name": "stdout",
     "output_type": "stream",
     "text": [
      "Assigned message\n",
      "Changed value\n"
     ]
    }
   ],
   "source": [
    "variable = \"Assigned message\"\n",
    "print(variable)\n",
    "variable = \"Changed value\"\n",
    "print(variable)"
   ]
  },
  {
   "cell_type": "markdown",
   "id": "d92364e6-d12a-47c9-bd0b-1ac4ce05162f",
   "metadata": {},
   "source": [
    "#### __2-3. Personal Message:__ Use a variable to represent a person’s name, and print a message to that person. Your message should be simple, such as, “Hello Eric, would you like to learn some Python today?”"
   ]
  },
  {
   "cell_type": "code",
   "execution_count": 3,
   "id": "8c7ca53a-9ff0-4822-80ab-e98a522e8aee",
   "metadata": {},
   "outputs": [
    {
     "name": "stdout",
     "output_type": "stream",
     "text": [
      "Hello Eric, Would you like to learn some python today?\n"
     ]
    }
   ],
   "source": [
    "variable = \"Eric\"\n",
    "print(f\"Hello {variable}, Would you like to learn some python today?\")"
   ]
  },
  {
   "cell_type": "markdown",
   "id": "0ba2496e-78e0-41fa-8b32-3d955cc71fea",
   "metadata": {},
   "source": [
    "#### __2-4. Name Cases:__ Use a variable to represent a person’s name, and then print that person’s name in lowercase, uppercase, and title case."
   ]
  },
  {
   "cell_type": "code",
   "execution_count": 4,
   "id": "3a012d82-2df6-4a43-8df5-17b898a678c5",
   "metadata": {},
   "outputs": [
    {
     "name": "stdout",
     "output_type": "stream",
     "text": [
      "This is lowercase andrew gordon.\n",
      "This is uppercase ANDREW GORDON.\n",
      "This is titlecase Andrew Gordon.\n"
     ]
    }
   ],
   "source": [
    "persons_name = \"Andrew Gordon\"\n",
    "print(f\"This is lowercase {persons_name.lower()}.\")\n",
    "print(f\"This is uppercase {persons_name.upper()}.\")\n",
    "print(f\"This is titlecase {persons_name.title()}.\")"
   ]
  },
  {
   "cell_type": "markdown",
   "id": "32e26426-3c5b-418d-93c4-97493497ad91",
   "metadata": {},
   "source": [
    "#### __2-5. Famous Quote:__ Find a quote from a famous person you admire. Print the quote and the name of its author. Your output should look something like the following, including the quotation marks:"
   ]
  },
  {
   "cell_type": "code",
   "execution_count": 5,
   "id": "aa7f7bac-90d3-4edb-8450-6ef9a47f30e7",
   "metadata": {},
   "outputs": [
    {
     "name": "stdout",
     "output_type": "stream",
     "text": [
      "The words of the Solomon are \"Utter futility!—said Koheleth—Utter futility! All is futile!\"\n"
     ]
    }
   ],
   "source": [
    "citation = \"Utter futility!—said Koheleth—Utter futility! All is futile!\"\n",
    "print(f'The words of the Solomon are \"{citation}\"')"
   ]
  },
  {
   "cell_type": "markdown",
   "id": "05e5efa7-ead1-417e-be4b-865c34e6d3c3",
   "metadata": {},
   "source": [
    "#### __2-6. Famous Quote 2:__ Repeat Exercise 2-5, but this time, represent the famous person’s name using a variable called famous_person. Then compose your mes- sage and represent it with a new variable called message. Print your message."
   ]
  },
  {
   "cell_type": "code",
   "execution_count": 6,
   "id": "6aa8c338-dbca-4908-b54a-9228886afe69",
   "metadata": {},
   "outputs": [
    {
     "name": "stdout",
     "output_type": "stream",
     "text": [
      "The words of the Solomon are \"Utter futility!—said Koheleth—Utter futility! All is futile!\"\n"
     ]
    }
   ],
   "source": [
    "messege = \"Utter futility!—said Koheleth—Utter futility! All is futile!\"\n",
    "name = \"Solomon\"\n",
    "print(f'The words of the {name} are \"{messege}\"')"
   ]
  },
  {
   "cell_type": "markdown",
   "id": "fba8d141-e1da-4f70-8910-770eb72cebb6",
   "metadata": {},
   "source": [
    "#### __2-7. Stripping Names:__ Use a variable to represent a person’s name, and include some whitespace characters at the beginning and end of the name. Make sure you use each character combination, \"\\t\" and \"\\n\", at least once. Print the name once, so the whitespace around the name is displayed. Then print the name using each of the three stripping functions, lstrip(), rstrip(), and strip()."
   ]
  },
  {
   "cell_type": "code",
   "execution_count": 7,
   "id": "7549bd4e-f866-4c49-91b0-add813e13df5",
   "metadata": {},
   "outputs": [
    {
     "name": "stdout",
     "output_type": "stream",
     "text": [
      "\n",
      "\t Andrew Gordon  \t\n",
      "The lstrip are:\n",
      "Andrew Gordon  \t\n",
      "\n",
      "The rstrip are:\n",
      "\n",
      "\t Andrew Gordon\n",
      "\n",
      "The strip are:\n",
      "Andrew Gordon\n",
      "\n"
     ]
    }
   ],
   "source": [
    "name = \"\\n\\t Andrew Gordon  \\t\"\n",
    "print(name)\n",
    "print(f\"The lstrip are:\\n{name.lstrip()}\\n\")\n",
    "print(f\"The rstrip are:\\n{name.rstrip()}\\n\")\n",
    "print(f\"The strip are:\\n{name.strip()}\\n\")"
   ]
  },
  {
   "cell_type": "markdown",
   "id": "51fbfb4a-5175-4298-b60b-cddd23591bc0",
   "metadata": {},
   "source": [
    "#### __2-8. File Extensions:__ Python has a removesuffix() method that works exactly like removeprefix(). Assign the value 'python_notes.txt' to a variable called filename. Then use the removesuffix() method to display the filename without the file extension, like some file browsers do."
   ]
  },
  {
   "cell_type": "code",
   "execution_count": 8,
   "id": "a28bb235-2022-469f-b400-1c655620dd23",
   "metadata": {},
   "outputs": [
    {
     "name": "stdout",
     "output_type": "stream",
     "text": [
      "python_notes\n"
     ]
    }
   ],
   "source": [
    "filename = 'python_notes.txt'\n",
    "print(filename.removesuffix('.txt'))"
   ]
  },
  {
   "cell_type": "markdown",
   "id": "ebb77bda-f7c6-42c8-9ded-e936fd6888e6",
   "metadata": {},
   "source": [
    "#### __2-9. Number Eight:__ Write addition, subtraction, multiplication, and division operations that each result in the number 8. Be sure to enclose your operations in print() calls to see the results. You should create four lines that look like this: print(5+3) Your output should be four lines, with the number 8 appearing once on each line."
   ]
  },
  {
   "cell_type": "code",
   "execution_count": 9,
   "id": "d2088860-23d1-4335-99e4-0a8759fccfc7",
   "metadata": {},
   "outputs": [
    {
     "name": "stdout",
     "output_type": "stream",
     "text": [
      "8\n",
      "8\n",
      "8\n",
      "8.0\n"
     ]
    }
   ],
   "source": [
    "print(4 + 4)\n",
    "print(16 - 8)\n",
    "print(2 * 4)\n",
    "print(16 / 2)"
   ]
  },
  {
   "cell_type": "markdown",
   "id": "600237a5-181f-4821-ab82-854c967cce4b",
   "metadata": {},
   "source": [
    "#### __2-10. Favorite Number:__ Use a variable to represent your favorite number. Then, using that variable, create a message that reveals your favorite number. Print that message."
   ]
  },
  {
   "cell_type": "code",
   "execution_count": 10,
   "id": "c75e03ea-c593-4690-96bf-96164d5e643f",
   "metadata": {},
   "outputs": [
    {
     "name": "stdout",
     "output_type": "stream",
     "text": [
      "87236489130 is your favorite number!\n"
     ]
    }
   ],
   "source": [
    "fav_number = 87236489130\n",
    "message = f\"{fav_number} is your favorite number!\"\n",
    "print(message)"
   ]
  },
  {
   "cell_type": "markdown",
   "id": "7228fa83-2f44-46d7-97a8-928651b5dba5",
   "metadata": {},
   "source": [
    "#### __2-11. Adding Comments:__ Choose two of the programs you’ve written, and add at least one comment to each. If you don’t have anything specific to write because your programs are too simple at this point, just add your name and the current date at the top of each program file. Then write one sentence describing what the program does."
   ]
  },
  {
   "cell_type": "code",
   "execution_count": 13,
   "id": "02c683b8-94a4-41a2-98cd-20ceb89e5df4",
   "metadata": {},
   "outputs": [
    {
     "name": "stdout",
     "output_type": "stream",
     "text": [
      "87236489130 is your favorite number!\n",
      "The words of the Solomon are \"Utter futility!—said Koheleth—Utter futility! All is futile!\"\n"
     ]
    }
   ],
   "source": [
    "#This is showing my favorite number\n",
    "fav_number = 87236489130\n",
    "message = f\"{fav_number} is your favorite number!\"\n",
    "print(message)\n",
    "\n",
    "#This is printing citation from Koheleth\n",
    "messege = \"Utter futility!—said Koheleth—Utter futility! All is futile!\"\n",
    "name = \"Solomon\"\n",
    "print(f'The words of the {name} are \"{messege}\"')"
   ]
  },
  {
   "cell_type": "markdown",
   "id": "aa5af350-7f7d-4884-8fbd-8a9ef447ed1f",
   "metadata": {},
   "source": [
    "#### __2-12. Zen of Python:__ Enter import this into a Python terminal session and skim through the additional principles."
   ]
  },
  {
   "cell_type": "code",
   "execution_count": 14,
   "id": "d55d0ca1-d75d-46ac-b2e8-d3f145e51f4b",
   "metadata": {},
   "outputs": [
    {
     "name": "stdout",
     "output_type": "stream",
     "text": [
      "The Zen of Python, by Tim Peters\n",
      "\n",
      "Beautiful is better than ugly.\n",
      "Explicit is better than implicit.\n",
      "Simple is better than complex.\n",
      "Complex is better than complicated.\n",
      "Flat is better than nested.\n",
      "Sparse is better than dense.\n",
      "Readability counts.\n",
      "Special cases aren't special enough to break the rules.\n",
      "Although practicality beats purity.\n",
      "Errors should never pass silently.\n",
      "Unless explicitly silenced.\n",
      "In the face of ambiguity, refuse the temptation to guess.\n",
      "There should be one-- and preferably only one --obvious way to do it.\n",
      "Although that way may not be obvious at first unless you're Dutch.\n",
      "Now is better than never.\n",
      "Although never is often better than *right* now.\n",
      "If the implementation is hard to explain, it's a bad idea.\n",
      "If the implementation is easy to explain, it may be a good idea.\n",
      "Namespaces are one honking great idea -- let's do more of those!\n"
     ]
    }
   ],
   "source": [
    "import this"
   ]
  }
 ],
 "metadata": {
  "kernelspec": {
   "display_name": "Python 3 (ipykernel)",
   "language": "python",
   "name": "python3"
  },
  "language_info": {
   "codemirror_mode": {
    "name": "ipython",
    "version": 3
   },
   "file_extension": ".py",
   "mimetype": "text/x-python",
   "name": "python",
   "nbconvert_exporter": "python",
   "pygments_lexer": "ipython3",
   "version": "3.11.5"
  }
 },
 "nbformat": 4,
 "nbformat_minor": 5
}
