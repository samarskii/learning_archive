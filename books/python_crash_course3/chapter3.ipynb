{
 "cells": [
  {
   "cell_type": "markdown",
   "id": "12045fa4-08be-4bbd-9a85-687c002a3068",
   "metadata": {},
   "source": [
    "# 3. INTRODUCING LISTS"
   ]
  },
  {
   "cell_type": "markdown",
   "id": "a3b316ba-7c3e-477a-8004-3f0cb4974252",
   "metadata": {},
   "source": [
    "## Exercises: "
   ]
  },
  {
   "cell_type": "code",
   "execution_count": null,
   "id": "f4ab5576-e83e-4e1a-8fde-429abb52397a",
   "metadata": {},
   "outputs": [],
   "source": []
  }
 ],
 "metadata": {
  "kernelspec": {
   "display_name": "Python 3 (ipykernel)",
   "language": "python",
   "name": "python3"
  },
  "language_info": {
   "codemirror_mode": {
    "name": "ipython",
    "version": 3
   },
   "file_extension": ".py",
   "mimetype": "text/x-python",
   "name": "python",
   "nbconvert_exporter": "python",
   "pygments_lexer": "ipython3",
   "version": "3.11.5"
  }
 },
 "nbformat": 4,
 "nbformat_minor": 5
}
